{
 "cells": [
  {
   "cell_type": "code",
   "execution_count": 10,
   "id": "a3953f8a",
   "metadata": {},
   "outputs": [],
   "source": [
    "import pandas as pd\n",
    "import numpy as np\n",
    "import matplotlib.pyplot as plt\n",
    "from sklearn.neighbors import KNeighborsClassifier\n",
    "from sklearn.preprocessing import StandardScaler\n",
    "from sklearn.feature_extraction.text import CountVectorizer, TfidfVectorizer\n",
    "from sklearn.pipeline import Pipeline\n",
    "from sklearn.model_selection import train_test_split, GridSearchCV\n",
    "from sklearn.metrics import plot_confusion_matrix"
   ]
  },
  {
   "cell_type": "code",
   "execution_count": 2,
   "id": "28438d38",
   "metadata": {},
   "outputs": [],
   "source": [
    "df = pd.read_csv('../Data/subredditdatacleaned.csv')"
   ]
  },
  {
   "cell_type": "code",
   "execution_count": 3,
   "id": "5793c4f3",
   "metadata": {},
   "outputs": [
    {
     "data": {
      "text/html": [
       "<div>\n",
       "<style scoped>\n",
       "    .dataframe tbody tr th:only-of-type {\n",
       "        vertical-align: middle;\n",
       "    }\n",
       "\n",
       "    .dataframe tbody tr th {\n",
       "        vertical-align: top;\n",
       "    }\n",
       "\n",
       "    .dataframe thead th {\n",
       "        text-align: right;\n",
       "    }\n",
       "</style>\n",
       "<table border=\"1\" class=\"dataframe\">\n",
       "  <thead>\n",
       "    <tr style=\"text-align: right;\">\n",
       "      <th></th>\n",
       "      <th>Unnamed: 0</th>\n",
       "      <th>title</th>\n",
       "      <th>selftext</th>\n",
       "      <th>subreddit</th>\n",
       "      <th>created_utc</th>\n",
       "    </tr>\n",
       "  </thead>\n",
       "  <tbody>\n",
       "    <tr>\n",
       "      <th>0</th>\n",
       "      <td>0</td>\n",
       "      <td>Do the crazy customers realize that they becom...</td>\n",
       "      <td>removed_asdf_fix</td>\n",
       "      <td>0</td>\n",
       "      <td>1636729943</td>\n",
       "    </tr>\n",
       "    <tr>\n",
       "      <th>1</th>\n",
       "      <td>1</td>\n",
       "      <td>Store music volume controls</td>\n",
       "      <td>My most recent job, and hopefully last, in ret...</td>\n",
       "      <td>0</td>\n",
       "      <td>1636729678</td>\n",
       "    </tr>\n",
       "    <tr>\n",
       "      <th>2</th>\n",
       "      <td>2</td>\n",
       "      <td>Ways of Rejection</td>\n",
       "      <td>I'll just hop right into it as there's no poin...</td>\n",
       "      <td>0</td>\n",
       "      <td>1636725427</td>\n",
       "    </tr>\n",
       "    <tr>\n",
       "      <th>3</th>\n",
       "      <td>3</td>\n",
       "      <td>JUST TELL US WHAT IT'S USED FOR!</td>\n",
       "      <td>removed_asdf_fix</td>\n",
       "      <td>0</td>\n",
       "      <td>1636694714</td>\n",
       "    </tr>\n",
       "    <tr>\n",
       "      <th>4</th>\n",
       "      <td>4</td>\n",
       "      <td>You've got to go collect stray shopping carts ...</td>\n",
       "      <td>removed_asdf_fix</td>\n",
       "      <td>0</td>\n",
       "      <td>1636679308</td>\n",
       "    </tr>\n",
       "  </tbody>\n",
       "</table>\n",
       "</div>"
      ],
      "text/plain": [
       "   Unnamed: 0                                              title  \\\n",
       "0           0  Do the crazy customers realize that they becom...   \n",
       "1           1                        Store music volume controls   \n",
       "2           2                                  Ways of Rejection   \n",
       "3           3                   JUST TELL US WHAT IT'S USED FOR!   \n",
       "4           4  You've got to go collect stray shopping carts ...   \n",
       "\n",
       "                                            selftext  subreddit  created_utc  \n",
       "0                                   removed_asdf_fix          0   1636729943  \n",
       "1  My most recent job, and hopefully last, in ret...          0   1636729678  \n",
       "2  I'll just hop right into it as there's no poin...          0   1636725427  \n",
       "3                                   removed_asdf_fix          0   1636694714  \n",
       "4                                   removed_asdf_fix          0   1636679308  "
      ]
     },
     "execution_count": 3,
     "metadata": {},
     "output_type": "execute_result"
    }
   ],
   "source": [
    "df.head()"
   ]
  },
  {
   "cell_type": "code",
   "execution_count": 4,
   "id": "94af9af2",
   "metadata": {},
   "outputs": [],
   "source": [
    "df = df.drop(columns=['Unnamed: 0'])"
   ]
  },
  {
   "cell_type": "code",
   "execution_count": 5,
   "id": "c247da1a",
   "metadata": {},
   "outputs": [
    {
     "data": {
      "text/plain": [
       "1    0.501878\n",
       "0    0.498122\n",
       "Name: subreddit, dtype: float64"
      ]
     },
     "execution_count": 5,
     "metadata": {},
     "output_type": "execute_result"
    }
   ],
   "source": [
    "df['subreddit'].value_counts(normalize=True)"
   ]
  },
  {
   "cell_type": "markdown",
   "id": "d74f1889",
   "metadata": {},
   "source": [
    "### Our baseline accuracy rate will be 50.18%, based of distribution above"
   ]
  },
  {
   "cell_type": "markdown",
   "id": "e24c05a4",
   "metadata": {},
   "source": [
    "# Setting our X,y and creating our Train/Test split"
   ]
  },
  {
   "cell_type": "code",
   "execution_count": 6,
   "id": "566869b2",
   "metadata": {},
   "outputs": [],
   "source": [
    "df['all_words'] = df['title'] + df['selftext']\n",
    "\n",
    "features = ['title', 'selftext'] \n",
    "X = df['all_words']\n",
    "y = df['subreddit']\n",
    "\n",
    "X_train, X_test, y_train, y_test = train_test_split(X, y, random_state=42)"
   ]
  },
  {
   "cell_type": "code",
   "execution_count": 9,
   "id": "5b2d52fb",
   "metadata": {},
   "outputs": [
    {
     "data": {
      "text/plain": [
       "1    1105\n",
       "0    1091\n",
       "Name: subreddit, dtype: int64"
      ]
     },
     "execution_count": 9,
     "metadata": {},
     "output_type": "execute_result"
    }
   ],
   "source": [
    "y_train.value_counts()"
   ]
  },
  {
   "cell_type": "code",
   "execution_count": 15,
   "id": "5342b2ac",
   "metadata": {},
   "outputs": [
    {
     "data": {
      "text/html": [
       "<div>\n",
       "<style scoped>\n",
       "    .dataframe tbody tr th:only-of-type {\n",
       "        vertical-align: middle;\n",
       "    }\n",
       "\n",
       "    .dataframe tbody tr th {\n",
       "        vertical-align: top;\n",
       "    }\n",
       "\n",
       "    .dataframe thead th {\n",
       "        text-align: right;\n",
       "    }\n",
       "</style>\n",
       "<table border=\"1\" class=\"dataframe\">\n",
       "  <thead>\n",
       "    <tr style=\"text-align: right;\">\n",
       "      <th></th>\n",
       "      <th>title</th>\n",
       "      <th>selftext</th>\n",
       "      <th>subreddit</th>\n",
       "      <th>created_utc</th>\n",
       "      <th>all_words</th>\n",
       "    </tr>\n",
       "  </thead>\n",
       "  <tbody>\n",
       "    <tr>\n",
       "      <th>0</th>\n",
       "      <td>Do the crazy customers realize that they becom...</td>\n",
       "      <td>removed_asdf_fix</td>\n",
       "      <td>0</td>\n",
       "      <td>1636729943</td>\n",
       "      <td>Do the crazy customers realize that they becom...</td>\n",
       "    </tr>\n",
       "  </tbody>\n",
       "</table>\n",
       "</div>"
      ],
      "text/plain": [
       "                                               title          selftext  \\\n",
       "0  Do the crazy customers realize that they becom...  removed_asdf_fix   \n",
       "\n",
       "   subreddit  created_utc                                          all_words  \n",
       "0          0   1636729943  Do the crazy customers realize that they becom...  "
      ]
     },
     "execution_count": 15,
     "metadata": {},
     "output_type": "execute_result"
    }
   ],
   "source": [
    "df.head(1)"
   ]
  },
  {
   "cell_type": "markdown",
   "id": "373da39b",
   "metadata": {},
   "source": [
    "# Pipe/GridSearch Model 1 Count Vectorizer"
   ]
  },
  {
   "cell_type": "code",
   "execution_count": 12,
   "id": "0dcae646",
   "metadata": {},
   "outputs": [],
   "source": [
    "import nltk\n",
    "stopwords = nltk.corpus.stopwords.words('english')\n",
    "stopwords.append('removed_asdf_fix') # adding stop word\n",
    "# Inspiration https://stackoverflow.com/questions/5511708/adding-words-to-nltk-stoplist"
   ]
  },
  {
   "cell_type": "code",
   "execution_count": 17,
   "id": "8fb583ea",
   "metadata": {},
   "outputs": [],
   "source": [
    "pipe = Pipeline([\n",
    "    ('cvec', CountVectorizer()),\n",
    "    ('ss', StandardScaler(with_mean=False)),\n",
    "    ('model', KNeighborsClassifier())\n",
    "])"
   ]
  },
  {
   "cell_type": "code",
   "execution_count": 33,
   "id": "36b1be43",
   "metadata": {
    "scrolled": true
   },
   "outputs": [
    {
     "name": "stdout",
     "output_type": "stream",
     "text": [
      "0.6707641333609443\n"
     ]
    },
    {
     "data": {
      "text/plain": [
       "{'cvec__binary': True,\n",
       " 'cvec__max_df': 0.4,\n",
       " 'cvec__min_df': 7,\n",
       " 'cvec__stop_words': ['i',\n",
       "  'me',\n",
       "  'my',\n",
       "  'myself',\n",
       "  'we',\n",
       "  'our',\n",
       "  'ours',\n",
       "  'ourselves',\n",
       "  'you',\n",
       "  \"you're\",\n",
       "  \"you've\",\n",
       "  \"you'll\",\n",
       "  \"you'd\",\n",
       "  'your',\n",
       "  'yours',\n",
       "  'yourself',\n",
       "  'yourselves',\n",
       "  'he',\n",
       "  'him',\n",
       "  'his',\n",
       "  'himself',\n",
       "  'she',\n",
       "  \"she's\",\n",
       "  'her',\n",
       "  'hers',\n",
       "  'herself',\n",
       "  'it',\n",
       "  \"it's\",\n",
       "  'its',\n",
       "  'itself',\n",
       "  'they',\n",
       "  'them',\n",
       "  'their',\n",
       "  'theirs',\n",
       "  'themselves',\n",
       "  'what',\n",
       "  'which',\n",
       "  'who',\n",
       "  'whom',\n",
       "  'this',\n",
       "  'that',\n",
       "  \"that'll\",\n",
       "  'these',\n",
       "  'those',\n",
       "  'am',\n",
       "  'is',\n",
       "  'are',\n",
       "  'was',\n",
       "  'were',\n",
       "  'be',\n",
       "  'been',\n",
       "  'being',\n",
       "  'have',\n",
       "  'has',\n",
       "  'had',\n",
       "  'having',\n",
       "  'do',\n",
       "  'does',\n",
       "  'did',\n",
       "  'doing',\n",
       "  'a',\n",
       "  'an',\n",
       "  'the',\n",
       "  'and',\n",
       "  'but',\n",
       "  'if',\n",
       "  'or',\n",
       "  'because',\n",
       "  'as',\n",
       "  'until',\n",
       "  'while',\n",
       "  'of',\n",
       "  'at',\n",
       "  'by',\n",
       "  'for',\n",
       "  'with',\n",
       "  'about',\n",
       "  'against',\n",
       "  'between',\n",
       "  'into',\n",
       "  'through',\n",
       "  'during',\n",
       "  'before',\n",
       "  'after',\n",
       "  'above',\n",
       "  'below',\n",
       "  'to',\n",
       "  'from',\n",
       "  'up',\n",
       "  'down',\n",
       "  'in',\n",
       "  'out',\n",
       "  'on',\n",
       "  'off',\n",
       "  'over',\n",
       "  'under',\n",
       "  'again',\n",
       "  'further',\n",
       "  'then',\n",
       "  'once',\n",
       "  'here',\n",
       "  'there',\n",
       "  'when',\n",
       "  'where',\n",
       "  'why',\n",
       "  'how',\n",
       "  'all',\n",
       "  'any',\n",
       "  'both',\n",
       "  'each',\n",
       "  'few',\n",
       "  'more',\n",
       "  'most',\n",
       "  'other',\n",
       "  'some',\n",
       "  'such',\n",
       "  'no',\n",
       "  'nor',\n",
       "  'not',\n",
       "  'only',\n",
       "  'own',\n",
       "  'same',\n",
       "  'so',\n",
       "  'than',\n",
       "  'too',\n",
       "  'very',\n",
       "  's',\n",
       "  't',\n",
       "  'can',\n",
       "  'will',\n",
       "  'just',\n",
       "  'don',\n",
       "  \"don't\",\n",
       "  'should',\n",
       "  \"should've\",\n",
       "  'now',\n",
       "  'd',\n",
       "  'll',\n",
       "  'm',\n",
       "  'o',\n",
       "  're',\n",
       "  've',\n",
       "  'y',\n",
       "  'ain',\n",
       "  'aren',\n",
       "  \"aren't\",\n",
       "  'couldn',\n",
       "  \"couldn't\",\n",
       "  'didn',\n",
       "  \"didn't\",\n",
       "  'doesn',\n",
       "  \"doesn't\",\n",
       "  'hadn',\n",
       "  \"hadn't\",\n",
       "  'hasn',\n",
       "  \"hasn't\",\n",
       "  'haven',\n",
       "  \"haven't\",\n",
       "  'isn',\n",
       "  \"isn't\",\n",
       "  'ma',\n",
       "  'mightn',\n",
       "  \"mightn't\",\n",
       "  'mustn',\n",
       "  \"mustn't\",\n",
       "  'needn',\n",
       "  \"needn't\",\n",
       "  'shan',\n",
       "  \"shan't\",\n",
       "  'shouldn',\n",
       "  \"shouldn't\",\n",
       "  'wasn',\n",
       "  \"wasn't\",\n",
       "  'weren',\n",
       "  \"weren't\",\n",
       "  'won',\n",
       "  \"won't\",\n",
       "  'wouldn',\n",
       "  \"wouldn't\",\n",
       "  'removed_asdf_fix'],\n",
       " 'model__algorithm': 'auto',\n",
       " 'model__n_neighbors': 8,\n",
       " 'model__weights': 'distance'}"
      ]
     },
     "execution_count": 33,
     "metadata": {},
     "output_type": "execute_result"
    }
   ],
   "source": [
    "params = {\n",
    "    'cvec__stop_words': [stopwords],\n",
    "    'cvec__min_df': [7],\n",
    "    'cvec__max_df':[.4],\n",
    "    'cvec__binary': [True, False],\n",
    "    #'cvec__ngram_range': [(1,1)] # <- turning off since slows compute and 1,1 is default so good\n",
    "    'model__n_neighbors': [7, 8],\n",
    "    'model__weights': ['distance'],\n",
    "    'model__algorithm': ['auto']\n",
    "}\n",
    "gs = GridSearchCV(pipe, param_grid=params)\n",
    "gs.fit(X_train, y_train)\n",
    "print(gs.best_score_)\n",
    "gs.best_params_"
   ]
  },
  {
   "cell_type": "code",
   "execution_count": 57,
   "id": "bbb250a8",
   "metadata": {},
   "outputs": [
    {
     "data": {
      "image/png": "[encoded data removed]",
      "text/plain": [
       "<Figure size 432x432 with 2 Axes>"
      ]
     },
     "metadata": {
      "needs_background": "light"
     },
     "output_type": "display_data"
    }
   ],
   "source": [
    "# inspiration https://stackoverflow.com/questions/61325314/how-to-change-plot-confusion-matrix-default-figure-size-in-sklearn-metrics-packa\n",
    "fig, ax = plt.subplots(figsize=(6, 6))\n",
    "plot_confusion_matrix(gs, X_test, y_test, display_labels=['Retail', 'Tech'], ax=ax)\n",
    "plt.title('Confusion Matrix Count Vectorizer', size=15)\n",
    "plt.xlabel('Predicted Label', size=12)\n",
    "plt.ylabel('True Label', size=12);\n",
    "plt.savefig('../Visuals/knnmatrixcountVectorizer.png', bbox_inches='tight')"
   ]
  },
  {
   "cell_type": "code",
   "execution_count": 35,
   "id": "94e79e63",
   "metadata": {},
   "outputs": [],
   "source": [
    "tn1, fp1, fn1, tp1 = 351, 17, 214, 151"
   ]
  },
  {
   "cell_type": "markdown",
   "id": "5389cc8d",
   "metadata": {},
   "source": [
    "### Accuracy"
   ]
  },
  {
   "cell_type": "code",
   "execution_count": 36,
   "id": "0d74c939",
   "metadata": {},
   "outputs": [
    {
     "data": {
      "text/plain": [
       "0.684856753069577"
      ]
     },
     "execution_count": 36,
     "metadata": {},
     "output_type": "execute_result"
    }
   ],
   "source": [
    "(tn1 + tp1) / (tn1 +tp1 + fp1 + fn1)"
   ]
  },
  {
   "cell_type": "markdown",
   "id": "5c5a8bbc",
   "metadata": {},
   "source": [
    "### Specificity"
   ]
  },
  {
   "cell_type": "code",
   "execution_count": 37,
   "id": "fe07d35e",
   "metadata": {},
   "outputs": [
    {
     "data": {
      "text/plain": [
       "0.9538043478260869"
      ]
     },
     "execution_count": 37,
     "metadata": {},
     "output_type": "execute_result"
    }
   ],
   "source": [
    "tn1 / (tn1 + fp1)"
   ]
  },
  {
   "cell_type": "markdown",
   "id": "0c94f98f",
   "metadata": {},
   "source": [
    "### Sensitivity"
   ]
  },
  {
   "cell_type": "code",
   "execution_count": 38,
   "id": "35824909",
   "metadata": {},
   "outputs": [
    {
     "data": {
      "text/plain": [
       "0.4136986301369863"
      ]
     },
     "execution_count": 38,
     "metadata": {},
     "output_type": "execute_result"
    }
   ],
   "source": [
    "tp1 / (tp1 + fn1)"
   ]
  },
  {
   "cell_type": "markdown",
   "id": "828196fa",
   "metadata": {},
   "source": [
    "### Precision"
   ]
  },
  {
   "cell_type": "code",
   "execution_count": 39,
   "id": "ef5342b9",
   "metadata": {},
   "outputs": [
    {
     "data": {
      "text/plain": [
       "0.8988095238095238"
      ]
     },
     "execution_count": 39,
     "metadata": {},
     "output_type": "execute_result"
    }
   ],
   "source": [
    "tp1 / (tp1 + fp1)"
   ]
  },
  {
   "cell_type": "markdown",
   "id": "d46afa28",
   "metadata": {},
   "source": [
    "# Pipe/Gridsearch Model 2 TfidVectorizer"
   ]
  },
  {
   "cell_type": "code",
   "execution_count": 41,
   "id": "c25652fc",
   "metadata": {},
   "outputs": [],
   "source": [
    "pipe2 = Pipeline([\n",
    "    ('tfidf', TfidfVectorizer()),\n",
    "    ('ss', StandardScaler(with_mean=False)),\n",
    "    ('model', KNeighborsClassifier())\n",
    "])"
   ]
  },
  {
   "cell_type": "code",
   "execution_count": 49,
   "id": "fe3eeb63",
   "metadata": {},
   "outputs": [
    {
     "name": "stdout",
     "output_type": "stream",
     "text": [
      "0.5660209153033754\n"
     ]
    },
    {
     "data": {
      "text/plain": [
       "{'model__n_neighbors': 5,\n",
       " 'model__weights': 'distance',\n",
       " 'tfidf__binary': False,\n",
       " 'tfidf__max_df': 0.3,\n",
       " 'tfidf__min_df': 7,\n",
       " 'tfidf__ngram_range': (1, 1),\n",
       " 'tfidf__stop_words': 'english'}"
      ]
     },
     "execution_count": 49,
     "metadata": {},
     "output_type": "execute_result"
    }
   ],
   "source": [
    "params2 = {\n",
    "    'tfidf__stop_words': ['english', stopwords],\n",
    "    'tfidf__min_df': [7],\n",
    "    'tfidf__max_df':[.2, .3],\n",
    "    'tfidf__binary': [True, False],\n",
    "    'tfidf__ngram_range': [(1,1)],\n",
    "    #'model__n_neighbors': [3, 4, 5, 6], default is good so commenting out\n",
    "    'model__weights': ['distance'],\n",
    "    #'model__algorithm': ['auto']\n",
    "}\n",
    "gs1 = GridSearchCV(pipe2, param_grid=params2)\n",
    "gs1.fit(X_train, y_train)\n",
    "print(gs1.best_score_)\n",
    "gs1.best_params_"
   ]
  },
  {
   "cell_type": "code",
   "execution_count": 58,
   "id": "34128ad4",
   "metadata": {},
   "outputs": [
    {
     "data": {
      "image/png": "[encoded data removed]",
      "text/plain": [
       "<Figure size 432x432 with 2 Axes>"
      ]
     },
     "metadata": {
      "needs_background": "light"
     },
     "output_type": "display_data"
    }
   ],
   "source": [
    "fig, ax = plt.subplots(figsize=(6, 6))\n",
    "plot_confusion_matrix(gs1, X_test, y_test, display_labels=['Retail', 'Tech'], cmap='viridis', ax=ax)\n",
    "plt.title('Confusion Matrix Tfid Vectorizer', size=15)\n",
    "plt.xlabel('Predicted Label', size=12)\n",
    "plt.ylabel('True Label', size=12);\n",
    "plt.savefig('../Visuals/knnmatrixTfidVectorizer.png', bbox_inches='tight')"
   ]
  },
  {
   "cell_type": "code",
   "execution_count": 51,
   "id": "6b987b0d",
   "metadata": {},
   "outputs": [],
   "source": [
    "tn2, fp2, fn2, tp2 = 272, 96, 219, 146"
   ]
  },
  {
   "cell_type": "markdown",
   "id": "9d0b112d",
   "metadata": {},
   "source": [
    "### Accuracy"
   ]
  },
  {
   "cell_type": "code",
   "execution_count": 52,
   "id": "37e34997",
   "metadata": {},
   "outputs": [
    {
     "data": {
      "text/plain": [
       "0.5702592087312415"
      ]
     },
     "execution_count": 52,
     "metadata": {},
     "output_type": "execute_result"
    }
   ],
   "source": [
    "(tn2 + tp2) / (tn2 +tp2 + fp2 + fn2)"
   ]
  },
  {
   "cell_type": "markdown",
   "id": "b73e5d6f",
   "metadata": {},
   "source": [
    "### Specificity"
   ]
  },
  {
   "cell_type": "code",
   "execution_count": 53,
   "id": "a71f02ed",
   "metadata": {},
   "outputs": [
    {
     "data": {
      "text/plain": [
       "0.7391304347826086"
      ]
     },
     "execution_count": 53,
     "metadata": {},
     "output_type": "execute_result"
    }
   ],
   "source": [
    "tn2 / (tn2 + fp2)"
   ]
  },
  {
   "cell_type": "markdown",
   "id": "eba89876",
   "metadata": {},
   "source": [
    "### Sensitivity"
   ]
  },
  {
   "cell_type": "code",
   "execution_count": 54,
   "id": "700a7e7f",
   "metadata": {},
   "outputs": [
    {
     "data": {
      "text/plain": [
       "0.4"
      ]
     },
     "execution_count": 54,
     "metadata": {},
     "output_type": "execute_result"
    }
   ],
   "source": [
    "tp2 / (tp2 + fn2)"
   ]
  },
  {
   "cell_type": "markdown",
   "id": "15785678",
   "metadata": {},
   "source": [
    "### Precision"
   ]
  },
  {
   "cell_type": "code",
   "execution_count": 55,
   "id": "1dc0dc89",
   "metadata": {},
   "outputs": [
    {
     "data": {
      "text/plain": [
       "0.6033057851239669"
      ]
     },
     "execution_count": 55,
     "metadata": {},
     "output_type": "execute_result"
    }
   ],
   "source": [
    "tp2 / (tp2 + fp2)"
   ]
  },
  {
   "cell_type": "code",
   "execution_count": null,
   "id": "d79680b4",
   "metadata": {},
   "outputs": [],
   "source": []
  }
 ],
 "metadata": {
  "kernelspec": {
   "display_name": "Python 3",
   "language": "python",
   "name": "python3"
  },
  "language_info": {
   "codemirror_mode": {
    "name": "ipython",
    "version": 3
   },
   "file_extension": ".py",
   "mimetype": "text/x-python",
   "name": "python",
   "nbconvert_exporter": "python",
   "pygments_lexer": "ipython3",
   "version": "3.8.8"
  }
 },
 "nbformat": 4,
 "nbformat_minor": 5
}
