{
 "cells": [
  {
   "cell_type": "markdown",
   "id": "d7d5ca0f",
   "metadata": {},
   "source": [
    "# Subreddit EDA"
   ]
  },
  {
   "cell_type": "code",
   "execution_count": 44,
   "id": "e5e18d70",
   "metadata": {},
   "outputs": [],
   "source": [
    "import pandas as pd\n",
    "import numpy as np"
   ]
  },
  {
   "cell_type": "code",
   "execution_count": 45,
   "id": "80de1931",
   "metadata": {},
   "outputs": [],
   "source": [
    "df = pd.read_csv('../Data/subredditdata.csv')"
   ]
  },
  {
   "cell_type": "code",
   "execution_count": 46,
   "id": "00c4e332",
   "metadata": {},
   "outputs": [
    {
     "data": {
      "text/html": [
       "<div>\n",
       "<style scoped>\n",
       "    .dataframe tbody tr th:only-of-type {\n",
       "        vertical-align: middle;\n",
       "    }\n",
       "\n",
       "    .dataframe tbody tr th {\n",
       "        vertical-align: top;\n",
       "    }\n",
       "\n",
       "    .dataframe thead th {\n",
       "        text-align: right;\n",
       "    }\n",
       "</style>\n",
       "<table border=\"1\" class=\"dataframe\">\n",
       "  <thead>\n",
       "    <tr style=\"text-align: right;\">\n",
       "      <th></th>\n",
       "      <th>title</th>\n",
       "      <th>selftext</th>\n",
       "      <th>subreddit</th>\n",
       "      <th>created_utc</th>\n",
       "    </tr>\n",
       "  </thead>\n",
       "  <tbody>\n",
       "    <tr>\n",
       "      <th>0</th>\n",
       "      <td>Do the crazy customers realize that they becom...</td>\n",
       "      <td>[removed]</td>\n",
       "      <td>TalesFromRetail</td>\n",
       "      <td>1636729943</td>\n",
       "    </tr>\n",
       "    <tr>\n",
       "      <th>1</th>\n",
       "      <td>Store music volume controls</td>\n",
       "      <td>My most recent job, and hopefully last, in ret...</td>\n",
       "      <td>TalesFromRetail</td>\n",
       "      <td>1636729678</td>\n",
       "    </tr>\n",
       "    <tr>\n",
       "      <th>2</th>\n",
       "      <td>Ways of Rejection</td>\n",
       "      <td>I'll just hop right into it as there's no poin...</td>\n",
       "      <td>TalesFromRetail</td>\n",
       "      <td>1636725427</td>\n",
       "    </tr>\n",
       "    <tr>\n",
       "      <th>3</th>\n",
       "      <td>JUST TELL US WHAT IT'S USED FOR!</td>\n",
       "      <td>[removed]</td>\n",
       "      <td>TalesFromRetail</td>\n",
       "      <td>1636694714</td>\n",
       "    </tr>\n",
       "    <tr>\n",
       "      <th>4</th>\n",
       "      <td>You've got to go collect stray shopping carts ...</td>\n",
       "      <td>[removed]</td>\n",
       "      <td>TalesFromRetail</td>\n",
       "      <td>1636679308</td>\n",
       "    </tr>\n",
       "  </tbody>\n",
       "</table>\n",
       "</div>"
      ],
      "text/plain": [
       "                                               title  \\\n",
       "0  Do the crazy customers realize that they becom...   \n",
       "1                        Store music volume controls   \n",
       "2                                  Ways of Rejection   \n",
       "3                   JUST TELL US WHAT IT'S USED FOR!   \n",
       "4  You've got to go collect stray shopping carts ...   \n",
       "\n",
       "                                            selftext        subreddit  \\\n",
       "0                                          [removed]  TalesFromRetail   \n",
       "1  My most recent job, and hopefully last, in ret...  TalesFromRetail   \n",
       "2  I'll just hop right into it as there's no poin...  TalesFromRetail   \n",
       "3                                          [removed]  TalesFromRetail   \n",
       "4                                          [removed]  TalesFromRetail   \n",
       "\n",
       "   created_utc  \n",
       "0   1636729943  \n",
       "1   1636729678  \n",
       "2   1636725427  \n",
       "3   1636694714  \n",
       "4   1636679308  "
      ]
     },
     "execution_count": 46,
     "metadata": {},
     "output_type": "execute_result"
    }
   ],
   "source": [
    "df.head()"
   ]
  },
  {
   "cell_type": "markdown",
   "id": "73c8d4e5",
   "metadata": {},
   "source": [
    "### Dropping NaN from data set"
   ]
  },
  {
   "cell_type": "code",
   "execution_count": 47,
   "id": "5003d889",
   "metadata": {},
   "outputs": [
    {
     "data": {
      "text/plain": [
       "title           0\n",
       "selftext       65\n",
       "subreddit       0\n",
       "created_utc     0\n",
       "dtype: int64"
      ]
     },
     "execution_count": 47,
     "metadata": {},
     "output_type": "execute_result"
    }
   ],
   "source": [
    "df.isnull().sum()"
   ]
  },
  {
   "cell_type": "code",
   "execution_count": 48,
   "id": "c114fba5",
   "metadata": {},
   "outputs": [
    {
     "data": {
      "text/plain": [
       "subreddit\n",
       "TalesFromRetail         41\n",
       "talesfromtechsupport    24\n",
       "dtype: int64"
      ]
     },
     "execution_count": 48,
     "metadata": {},
     "output_type": "execute_result"
    }
   ],
   "source": [
    "df[df['selftext'].isnull()].value_counts(df['subreddit']) # of rows for each with blank self texts"
   ]
  },
  {
   "cell_type": "code",
   "execution_count": 49,
   "id": "9cd46efe",
   "metadata": {},
   "outputs": [],
   "source": [
    "df = df.dropna() # all 65 na rows are dropped now"
   ]
  },
  {
   "cell_type": "code",
   "execution_count": 50,
   "id": "d875ae4f",
   "metadata": {},
   "outputs": [
    {
     "data": {
      "text/plain": [
       "talesfromtechsupport    1470\n",
       "TalesFromRetail         1459\n",
       "Name: subreddit, dtype: int64"
      ]
     },
     "execution_count": 50,
     "metadata": {},
     "output_type": "execute_result"
    }
   ],
   "source": [
    "df['subreddit'].value_counts()"
   ]
  },
  {
   "cell_type": "code",
   "execution_count": 51,
   "id": "36e1b606",
   "metadata": {},
   "outputs": [
    {
     "data": {
      "text/plain": [
       "talesfromtechsupport    0.501878\n",
       "TalesFromRetail         0.498122\n",
       "Name: subreddit, dtype: float64"
      ]
     },
     "execution_count": 51,
     "metadata": {},
     "output_type": "execute_result"
    }
   ],
   "source": [
    "df['subreddit'].value_counts(normalize=True) # distribution still almost 50/50"
   ]
  },
  {
   "cell_type": "markdown",
   "id": "6c29d5b5",
   "metadata": {},
   "source": [
    "### Checking the dtypes and setting subreddit column to binary"
   ]
  },
  {
   "cell_type": "code",
   "execution_count": 52,
   "id": "053ff5a1",
   "metadata": {},
   "outputs": [
    {
     "data": {
      "text/plain": [
       "title          object\n",
       "selftext       object\n",
       "subreddit      object\n",
       "created_utc     int64\n",
       "dtype: object"
      ]
     },
     "execution_count": 52,
     "metadata": {},
     "output_type": "execute_result"
    }
   ],
   "source": [
    "df.dtypes"
   ]
  },
  {
   "cell_type": "markdown",
   "id": "992aa202",
   "metadata": {},
   "source": [
    "### TalesFromRetail = 0, TalesFromTechSupport = 1"
   ]
  },
  {
   "cell_type": "code",
   "execution_count": 53,
   "id": "d2629340",
   "metadata": {},
   "outputs": [],
   "source": [
    "df['subreddit'] = df['subreddit'].map({'TalesFromRetail': 0, 'talesfromtechsupport': 1})"
   ]
  },
  {
   "cell_type": "code",
   "execution_count": 54,
   "id": "d29e5cfa",
   "metadata": {},
   "outputs": [
    {
     "data": {
      "text/html": [
       "<div>\n",
       "<style scoped>\n",
       "    .dataframe tbody tr th:only-of-type {\n",
       "        vertical-align: middle;\n",
       "    }\n",
       "\n",
       "    .dataframe tbody tr th {\n",
       "        vertical-align: top;\n",
       "    }\n",
       "\n",
       "    .dataframe thead th {\n",
       "        text-align: right;\n",
       "    }\n",
       "</style>\n",
       "<table border=\"1\" class=\"dataframe\">\n",
       "  <thead>\n",
       "    <tr style=\"text-align: right;\">\n",
       "      <th></th>\n",
       "      <th>title</th>\n",
       "      <th>selftext</th>\n",
       "      <th>subreddit</th>\n",
       "      <th>created_utc</th>\n",
       "    </tr>\n",
       "  </thead>\n",
       "  <tbody>\n",
       "    <tr>\n",
       "      <th>0</th>\n",
       "      <td>Do the crazy customers realize that they becom...</td>\n",
       "      <td>[removed]</td>\n",
       "      <td>0</td>\n",
       "      <td>1636729943</td>\n",
       "    </tr>\n",
       "    <tr>\n",
       "      <th>1</th>\n",
       "      <td>Store music volume controls</td>\n",
       "      <td>My most recent job, and hopefully last, in ret...</td>\n",
       "      <td>0</td>\n",
       "      <td>1636729678</td>\n",
       "    </tr>\n",
       "  </tbody>\n",
       "</table>\n",
       "</div>"
      ],
      "text/plain": [
       "                                               title  \\\n",
       "0  Do the crazy customers realize that they becom...   \n",
       "1                        Store music volume controls   \n",
       "\n",
       "                                            selftext  subreddit  created_utc  \n",
       "0                                          [removed]          0   1636729943  \n",
       "1  My most recent job, and hopefully last, in ret...          0   1636729678  "
      ]
     },
     "execution_count": 54,
     "metadata": {},
     "output_type": "execute_result"
    }
   ],
   "source": [
    "df.head(2)"
   ]
  },
  {
   "cell_type": "markdown",
   "id": "f5cd0052",
   "metadata": {},
   "source": [
    "### Furthur Exploration"
   ]
  },
  {
   "cell_type": "code",
   "execution_count": 55,
   "id": "6e5707d6",
   "metadata": {},
   "outputs": [
    {
     "data": {
      "text/plain": [
       "[removed]                                                                                                                                                                                                                                                                                                                                                                                                                                                                                                                                                                                                                                                                                                                                                                                                                                                                                                                                                                                                                                                                                                                                                                                                                                                                                                                                                                                                                                                                                                                                                                                                                                                                                                                                                                                                                                                                                                                                                                                                                                                                                                                                                                                                                                                                                                                                                                                                                                                                                                                                                                                                                                                                                                                                                                                                                                                                                                                                                                                                                                                                                                                                                                                                                                                                                                                                                                                                                                                                                                                                                                                                                                                                                                                                                                                                                                                                                                                                                                                                                                                                                                                                                                                                                                                                                                                                                                                 1503\n",
       "[deleted]                                                                                                                                                                                                                                                                                                                                                                                                                                                                                                                                                                                                                                                                                                                                                                                                                                                                                                                                                                                                                                                                                                                                                                                                                                                                                                                                                                                                                                                                                                                                                                                                                                                                                                                                                                                                                                                                                                                                                                                                                                                                                                                                                                                                                                                                                                                                                                                                                                                                                                                                                                                                                                                                                                                                                                                                                                                                                                                                                                                                                                                                                                                                                                                                                                                                                                                                                                                                                                                                                                                                                                                                                                                                                                                                                                                                                                                                                                                                                                                                                                                                                                                                                                                                                                                                                                                                                                                    7\n",
       "Welcome to /r/TalesFromRetail's Express Lane - your quick stop for short tales, pithy observations and general retail chat about how things are going with your store, your customers and yourselves.\\n\\nPlease [follow the rules](/r/TalesFromRetail/wiki/) regarding anonymity and derogatory speech.\\n\\n*(All comments will be sorted by \"new\")*                                                                                                                                                                                                                                                                                                                                                                                                                                                                                                                                                                                                                                                                                                                                                                                                                                                                                                                                                                                                                                                                                                                                                                                                                                                                                                                                                                                                                                                                                                                                                                                                                                                                                                                                                                                                                                                                                                                                                                                                                                                                                                                                                                                                                                                                                                                                                                                                                                                                                                                                                                                                                                                                                                                                                                                                                                                                                                                                                                                                                                                                                                                                                                                                                                                                                                                                                                                                                                                                                                                                                                                                                                                                                                                                                                                                                                                                                                                                                                                                                                          7\n",
       "So this isn't my tale, but I found it really interesting. We've all  been told about or experienced issues with ESD, electromagnetic radiation, or electrical interference but I just learned that cosmic radiation sometimes causes \"bit flip\" in DRAM. This can cause ask kinds of issues in a computer including BSOD. \\n\\nSeeing as how this \"bit flip\" is a soft error (is temporary and can be overwritten), its no surprise that restarting a computer is often the first troubleshooting step. \\n\\nFrom now on, when I fix a computer and have no idea what the issue was, instead of Fn Magic(FM) I'll blame it on cosmic radiation. \\n\\nhttps://youtu.be/AaZ_RSt0KP8 for reference.                                                                                                                                                                                                                                                                                                                                                                                                                                                                                                                                                                                                                                                                                                                                                                                                                                                                                                                                                                                                                                                                                                                                                                                                                                                                                                                                                                                                                                                                                                                                                                                                                                                                                                                                                                                                                                                                                                                                                                                                                                                                                                                                                                                                                                                                                                                                                                                                                                                                                                                                                                                                                                                                                                                                                                                                                                                                                                                                                                                                                                                                                                                                                                                                                                                                                                                                                                                                                                                                                                                                                                                                                                                                                                2\n",
       "(This is my first submission and I have no excuse for grammar, typing errors or the other things that seem to make for a preface here)\\n\\nMany years ago, when band printers and AS400s were a thing, a customer had an intermittent issue where their printer would cease to deliver reams of paper filled with columns of text and figures that no one would read and start to deliver page upon page of random characters that no one could read.\\n\\nTypically, error would occur, customer calls up, tech dispatched who finds no fault. Tech attempts varied steps involving mechanical tools and dust removal agents of the homing sensors and other diagnostics based on the hyper-informative 7 segment LED display on the main board (that said '0') , checked the connection to the serial comms device was extra snug and then stood around for a suitable length of time \"observing\" the printer operation before leaving with the advice to call again if (when) it happened next time. It would occur for a couple of days then nothing for a week or two. No real discernible pattern.\\n\\nNow this was in the office of some stock brokers or accountants - some mob who passed for royalty in early '90s Sydney and their office was in a tower with views over Sydney Harbour and in particular Circular Quay. For those of you who have not been blessed with a visit to our beautiful harbour city, Circular Quay is the bit between the Harbour Bridge and the Sydney Opera House where you may have seen the New Years fireworks broadcast from. It also has the International Passenger Terminal where cruise ships dock (they were just P&amp;O Ocean Liners back then). The printer was in a small room with a window that overlooked this view so it was not an unpleasant spot to gaze from while \"observing\" the printer with its snuggly connected serial cable in to the serial comms device while the printer disgorged perfectly aligned columns of text on sheet after sheet of heavily processed tree.\\n\\nTime passed and, though there had been a report or two in the mean time, a month later I caught this ticket again and returned to spread my tools out to give the impression I could help, check the diagnostics on the hyper-informative 7 segment LED display on the main board (still '0') , polished the capacitors, read a story to the serial comms unit and settled into observe.... when I noticed it was the same ship docked as last time I was there.\\n\\nTo cut this short, (too late you say) , some other techs and I agreed that it was possible the radar of the ship was interfering with the comms to the printer and screwing the data flow and that the radar would only be active on arrival and departure but not while docked. The next time the customer called to report the issue, they confirmed the *P&amp;O Saucy Sailor* was back in port and I suggested they needed to get their comms people to get a better shielded link or comms device in there. I'm assuming that worked as the calls for that issue stopped.                                                                                                                                                                                                                                                                                                                                                                                                                                                                                                                                                                                                                                                                                                                                                                                                                                                                                                                                                                                                                                                                                                                                                                                                                                                                                                1\n",
       "                                                                                                                                                                                                                                                                                                                                                                                                                                                                                                                                                                                                                                                                                                                                                                                                                                                                                                                                                                                                                                                                                                                                                                                                                                                                                                                                                                                                                                                                                                                                                                                                                                                                                                                                                                                                                                                                                                                                                                                                                                                                                                                                                                                                                                                                                                                                                                                                                                                                                                                                                                                                                                                                                                                                                                                                                                                                                                                                                                                                                                                                                                                                                                                                                                                                                                                                                                                                                                                                                                                                                                                                                                                                                                                                                                                                                                                                                                                                                                                                                                                                                                                                                                                                                                                                                                                                                                                          ... \n",
       "I was just recently reminded of this story and thought it might fit here.\\n\\nA bit of back story - Up until a few years ago I ran a retail business which had started out it's life as a Video store in a quiet rural town but over the years it became more a general store as we acquired local businesses that were about to close down - the local post office being the main one in this story, we'd taken it over when it was about to shut down as it was no longer profitable as a standalone business. \\n\\nOur two dedicated Post counters were always slammed every Christmas, and I don't know what it was about this particular Christmas but for some reason our customers were more irate than usual and prone to taking their frustrations out on my staff.\\n\\nAs per usual we had massive queues and had one staff member on our general computers - which did the video side as well as straight retail transactions - calling out for anyone just purchasing items, to get them out of the long queues. Anyone doing overseas sending, paying bills, or doing car registration had to come to the two Post counters.\\n\\nSo many people were in store filling out forms, so this particular day *all* the pens had gone walkabout apart from one each at the counters for staff use which we were keeping a close eye on - we needed our pens to finish filling out customs forms and car registration forms, transactions could not be completed if we didn't have a pen.\\n\\nCustomer and his wife get to the top of my queue and they have a car registration form which they need help filling in. I give them my pen while saying with a smile \"this is my only pen, so when you're finished with it I need it back otherwise I can't process your form. I need the pen to finish filling the form out\". He smiles and nods and I help him complete the form.\\n\\nThen I asked him nicely for my pen back. The customer did a complete 180, I can only assume the drugs he was on suddenly kicked in, he snarled at me and started to aggressively say something so I kindly reminded him I couldn't process the rest of his transaction unless I had my only pen back.\\n\\nHe raised his arm and threw the pen at my head while screaming \"here, have your f****n pen back\". The pen bounced off my face while I stood there dumbstruck and he pushed his way through the incoming crowd of customers and stormed off while all chatter in the store just died.\\n\\nI remember looking up and seeing customers just stare at me while his wife stood there flabbergasted before apologising profusely to me. I gathered my wits and finished off the transaction managing a smile at her as it wasn't her fault, and politely told her to have a nice day as she slunk out of the store embarrassed.\\n\\nNaturally every customer after that asked me why he'd yelled at me, and I just said \"I asked for my pen back\" with a shrug. The unintended side affect from him yelling at me was that every customer who was in-store suddenly managed to find their kindness and patience and treated the staff really well for the next half hour or so lol.\\n\\nBut I think the most amazing thing was this guy actually came back a week or so later and apologised for his actions that day, which was incredibly rare! That didn't stop us banning him and his wife six months later when they got caught shoplifting from us by a staff member.                                                                                                                                                                                                                                                                                                                                                                                                                                                                                                                                                                                                                                                                                                                                                                                                                                                                                                                            1\n",
       "Hello TFTS! Long time reader, first time poster. I felt I needed to share this story, so that everyone can share in my pain. Put a TL;DR at the bottom. \\n\\nOur story starts with a freshly brewed cup of coffee from my wonderful personal coffee maker in my office. I like to enjoy coffee in the morning as it makes issues like the following slightly easier to bear. Before I get to even doctor my beverage, my cellphone text alert goes off. The message on it reads simply, “HELP”.  After working with my colleagues for a few years now, I know that trying to do a back and forth, or calling about the issue will only waste time. Their desk is only about 30 steps away from my office anyway. So once more into the breach I go. \\nI arrive at said desk, and ask what is wrong. I can clearly see his monitor, and the current Phishing email training video on it. This following happens;\\n“Hey Aug, This training is broken. I have restarted it several times, but it keeps freezing on this screen! There isn’t a next button, and I don’t know what to do.”\\nAs he is talking I look at the screen again and take stock of what is actually there. I see that it is at the section that states to “Click the icon above that represents your Email platform”. It has a few icons on it, for Outlook, Gmail, and 365. So I of course give him the benefit of the doubt, and say, \\n“Oh ok let me see what is wrong.”\\nHere I take his mouse and click on the “Outlook” icon. It then goes onto the next part of the training. \\n“Oh Aug! You fixed it! What did you do?” \\n“I clicked on the icon it asked me too.”\\n“oh….”\\nI could tell he was a little ashamed, so I just reassured him and went on my way. \\n\\nNow a strange thing happens when I leave my office… people magically have been looking for me and need my help, like they can’t find my office, because of COURSE I have made it unplottable and told NO ONE about it. \\nSo I am inevitably flagged down the moment I turn away from the first desk. I momentarily contemplate ignoring said hail, and proceed back to my lair where my coffee is slowly losing heat.  I plaster on the customer service face and head over. You know where this is going….. same issue. \\n\\nIt seems that there was a mass email sent out to remind people they still need to do this training. So there are bunches of people that are watching the video training and a bunch are getting stuck on the part where it literally tells them to click on the icon. I have to walk around to 5 different desks, one after the other. By desk 3, I have started looking at the screen, then just say “Have you READ what is says yet?” I swear I say it nicely. Or as nice as can feasibly by uttered while your eye is twitching. They then FINALLY look at the screen and READ it. Now it doesn’t even stop there. \\n\\nLater on, I was at another office that I admin, regaling a colleague that is somewhat tech savvy with this story. Having a good laugh at the fact that apparently our colleagues can’t read.  While we are chatting someone close by calls for him, as he is there “go too” when I’m not there. I am busy doing some updates and installs on a different computer, so I turn back to it and continue on. When I glance over at the pair and the computer between them, guess what I see… Quantum mechanics and the uses there in… of course not! Wishful thinking. It’s the fated training screen once again begging for the user to simply click on the icon to progress. The funny cartoon teacher seems to have lost it glimmer and the smile on the face looks about 1000x less genuine for some reason. Must have been a trick of the light. \\nAfter he is told to click the icon, and colleague 1 is coming back over to me I ask if that was the EXACT issue we were just talking about, a bit more exasperated than I should have been. To which he throws up his hands and says, \\n“I’m not throwing anyone under the bus!”\\nI chuckle, and say “Fair enough”. This does however make me wonder if the training was perhaps a bit too advanced for our users. I mean, there wasn’t pretty colors, or flashing lights accompanying the request or anything! \\nTL;DR – Far too many people can’t follow directions on the screen to click an icon to finish a training video.       1\n",
       "I am a european citizen and my native language is not english and because i am on my laptop and i do not have an autocorrect there probably will be wrong spelling or whatever. \\n\\nSo this story takes place in a local grocery store and i think we are on of the only ones that are open till 24.00h in the city. (We actually have a lot of costumers coming in after 22.00h.) We still have to wear masks when we enter any kind of building or the train.\\n\\nIt was a busy day in general but i didnt have a lot of people in line when the security comes walking in and behind im two boys. At first i didnt realize them talking to me as i had other costumers but then i heard them asking for masks as they werent wearing one. The security is faster than i am and gets them a pack of masks and the costumers in line let me ring them up.\\n\\nSo we have those card devices where you can either just put the card on top and it will transfer just like that or you can insert the card but you can also swipe it at the side. The last option is basically never used because normally all cards have chips and can be used with the other to options. Not the card of the young fellow wanting to buy the mask. But the device at my register was like lose and fixed onto its holder so you wouldnt be able to swipe your card (this sentence hurt my head and i hope its understandable but i dont even know what the things with which the divce was fixed are called in my native language excuse me)\\n\\nSo i have a collegue passing by who cuts up the thing fixing the device so the young man can swipe his card, what he did and my colluege fixed the device back onto its holding. (once again i hope its understandable) i go on with my life but there they are the two young man back on my register which is the only open register with the problem with the card device. The man with the card laughs and says they are back and why i fixed the device because i should have known that he wanted to enter the store and buy things. So i make sure he can swipe his card. But he also wants to buy tabacco which we have behind glass, so we have to get up and get it for the cosutmer. \\n\\nBut turns out he doesnt want tabacco but a cartoon of cigarettes (whichis ten packs) which we dont have. I tell him we do not have those to which he replies that that cant be true and he is sure we have them and i should ask my supervisor (who clearly doenst has something better to do). I ask over my headset if we have those and as i said my supervisor says we do not have them. so they buy like five packs and some alcohol and go on. \\n\\nBut here is the thing. They where coming over the border from another country and both didnt have their ids with them (they had someone else buy the alcohol and the cigarettes, since i couldnt check their age) and this young man also had a really weird wound on his head that was actually quite deep and looked like it should be seen by a medical professional.                                                                                                                                                                                                                                                                                                                                                                                                                                                                                                                                                                                                                                                                                                                                                                                                                                                                                                                                                                                                                                                                                                                                                                                                                                                                                                                          1\n",
       "Hi,\\n\\nI transferred stores a few weeks ago in a better area. I have been working for this company for a little less than a year. The manager of the new store manipulated me in a way to transfer and I agreed. \\n\\nFirst it started with my wage; At my old store I was paid more because of the location and the supervisor forced me to sign a paper that I get a decrease because of the new area. So I use a variation of my name in my tag and such but my I-9/W-4 forms have my ID name and she made a big deal about it... Since then I feel so frustrated. She acts like I lied for my name and the manager and my coworkers laugh about the matter... I am a foreigner so my name is written in a weird way that they cannot even spell. By using an English variation it made it so easy for everyone. I didn't even have such issues at my old store. Now the supervisor comes the time my shift begins and she makes a deal about it and she even tells me what my coworkers (mentioning names) complained about. I am so tired and stressed, I told them if they keep harassing like that, I will quit. I only stay there because of the insurance and full-time schedule.                                                                                                                                                                                                                                                                                                                                                                                                                                                                                                                                                                                                                                                                                                                                                                                                                                                                                                                                                                                                                                                                                                                                                                                                                                                                                                                                                                                                                                                                                                                                                                                                                                                                                                                                                                                                                                                                                                                                                                                                                                                                                                                                                                                                                                                                                                                                                                                                                                                                                                                                                                                                                                                                                                                                                                                                                                                                                                                                                                                                                                                                                                                                                                                                    1\n",
       "This is some years ago, but it's still funny and I'll never forget it so here is my story.\\n\\nI used to work at a ad agency with lots of POS and Key account managers, I was their graphics artist and also their IT-Tech supporter.\\n\\nOne day our boss decided to change the entire interior of the office, everyone was happy about that, the company was doing well and we wanted to change the entire interior to something fresh and nice, you know - as a kickoff to our new success and prosperity.\\n\\nOfc. my job was to make sure our IT equipment was top notch, new computers, new cabling, new screens and all.\\n\\nMost of our staff isn't very IT savvy at all, and this one lady in particular wasn't very tech oriented, but very stylish and knew her fashion. In fact she was a rich kid from the richest family in our country at the time, but that's kinda besides the point. \\n\\nI was about to give her a brand new wide-screen monitor and she yelled at me \"WHAT ARE YOU DOING?\".\\n\\nErr, I'm about to give you a new shiny bigger and better monitor.\\n\\nShe said: Are you CRAZY? Do you know how many years it has taken me to organize my desktop icons? I have a ton of contact information, PDF files and images I need on my desktop.\\n\\nI tried to explain to her that they would still be there, it's just the screen I'm replacing.\\n\\nShe looked at me like I was the crazy one and kept on yelling at me: You idiot, I have all my shortcuts and documents well organized on that screen, if you replace that screen I will have to redo years of work.\\n\\nCalmly yet again I tried explaining to her the concept of computers and windows...that those Icons and shortcuts are on her Windows installation on the computer itself, and that the Desktop shortcuts and contents will be untouched.\\n\\nShe kept on yelling at me, Untouched? You're quite literally replacing my screen were the Icons are, are you so lost you don't get that? \\n\\nMy co-workers heard this and they had to literally crawl under their \"IRL\" desktops in order to hide the fact they were literally dying from laughter, I was a bit shook by her erratic behaviour so I couldn't even laugh, I tried thinking in laymens terms and imagine from her point of view (with zero computer knowledge) how to explain it to her in a way she would \"get it\".\\n\\nWe ended up letting her keep her monitor, there were no way to explain to her this, she just wouldn't understand. She really held on to the monitor as I was going to demo for her that the icons would still be there, but she kept blocking it like her life depended on it.\\n\\nOh well...                                                                                                                                                                                                                                                                                                                                                                                                                                                                                                                                                                                                                                                                                                                                                                                                                                                                                                                                                                                                                                                                                                                                                                                                                                                                                                                                                                                                                                                                                                                                                                                                                                                                                                                 1\n",
       "Name: selftext, Length: 1414, dtype: int64"
      ]
     },
     "execution_count": 55,
     "metadata": {},
     "output_type": "execute_result"
    }
   ],
   "source": [
    "df['selftext'].value_counts() # 1503 of selftext is removed, may add them as a stopword"
   ]
  },
  {
   "cell_type": "markdown",
   "id": "dcfcb167",
   "metadata": {},
   "source": [
    "### Going to change [removed] to just removed_asdf_fix in our DF"
   ]
  },
  {
   "cell_type": "code",
   "execution_count": 56,
   "id": "582136b4",
   "metadata": {},
   "outputs": [],
   "source": [
    "def selftext_fix(self_cell):\n",
    "    if self_cell == '[removed]':\n",
    "        return 'removed_asdf_fix' # setting as this string since I don't want an accidental replace on something else\n",
    "    else:\n",
    "        return self_cell"
   ]
  },
  {
   "cell_type": "code",
   "execution_count": 57,
   "id": "ce2ce80d",
   "metadata": {},
   "outputs": [],
   "source": [
    "df['selftext'] = df['selftext'].map(selftext_fix)"
   ]
  },
  {
   "cell_type": "code",
   "execution_count": 58,
   "id": "5f09f753",
   "metadata": {},
   "outputs": [
    {
     "data": {
      "text/html": [
       "<div>\n",
       "<style scoped>\n",
       "    .dataframe tbody tr th:only-of-type {\n",
       "        vertical-align: middle;\n",
       "    }\n",
       "\n",
       "    .dataframe tbody tr th {\n",
       "        vertical-align: top;\n",
       "    }\n",
       "\n",
       "    .dataframe thead th {\n",
       "        text-align: right;\n",
       "    }\n",
       "</style>\n",
       "<table border=\"1\" class=\"dataframe\">\n",
       "  <thead>\n",
       "    <tr style=\"text-align: right;\">\n",
       "      <th></th>\n",
       "      <th>title</th>\n",
       "      <th>selftext</th>\n",
       "      <th>subreddit</th>\n",
       "      <th>created_utc</th>\n",
       "    </tr>\n",
       "  </thead>\n",
       "  <tbody>\n",
       "    <tr>\n",
       "      <th>0</th>\n",
       "      <td>Do the crazy customers realize that they becom...</td>\n",
       "      <td>removed_asdf_fix</td>\n",
       "      <td>0</td>\n",
       "      <td>1636729943</td>\n",
       "    </tr>\n",
       "    <tr>\n",
       "      <th>1</th>\n",
       "      <td>Store music volume controls</td>\n",
       "      <td>My most recent job, and hopefully last, in ret...</td>\n",
       "      <td>0</td>\n",
       "      <td>1636729678</td>\n",
       "    </tr>\n",
       "    <tr>\n",
       "      <th>2</th>\n",
       "      <td>Ways of Rejection</td>\n",
       "      <td>I'll just hop right into it as there's no poin...</td>\n",
       "      <td>0</td>\n",
       "      <td>1636725427</td>\n",
       "    </tr>\n",
       "    <tr>\n",
       "      <th>3</th>\n",
       "      <td>JUST TELL US WHAT IT'S USED FOR!</td>\n",
       "      <td>removed_asdf_fix</td>\n",
       "      <td>0</td>\n",
       "      <td>1636694714</td>\n",
       "    </tr>\n",
       "    <tr>\n",
       "      <th>4</th>\n",
       "      <td>You've got to go collect stray shopping carts ...</td>\n",
       "      <td>removed_asdf_fix</td>\n",
       "      <td>0</td>\n",
       "      <td>1636679308</td>\n",
       "    </tr>\n",
       "  </tbody>\n",
       "</table>\n",
       "</div>"
      ],
      "text/plain": [
       "                                               title  \\\n",
       "0  Do the crazy customers realize that they becom...   \n",
       "1                        Store music volume controls   \n",
       "2                                  Ways of Rejection   \n",
       "3                   JUST TELL US WHAT IT'S USED FOR!   \n",
       "4  You've got to go collect stray shopping carts ...   \n",
       "\n",
       "                                            selftext  subreddit  created_utc  \n",
       "0                                   removed_asdf_fix          0   1636729943  \n",
       "1  My most recent job, and hopefully last, in ret...          0   1636729678  \n",
       "2  I'll just hop right into it as there's no poin...          0   1636725427  \n",
       "3                                   removed_asdf_fix          0   1636694714  \n",
       "4                                   removed_asdf_fix          0   1636679308  "
      ]
     },
     "execution_count": 58,
     "metadata": {},
     "output_type": "execute_result"
    }
   ],
   "source": [
    "df.head()"
   ]
  },
  {
   "cell_type": "code",
   "execution_count": 59,
   "id": "da5ac156",
   "metadata": {},
   "outputs": [
    {
     "data": {
      "text/html": [
       "<div>\n",
       "<style scoped>\n",
       "    .dataframe tbody tr th:only-of-type {\n",
       "        vertical-align: middle;\n",
       "    }\n",
       "\n",
       "    .dataframe tbody tr th {\n",
       "        vertical-align: top;\n",
       "    }\n",
       "\n",
       "    .dataframe thead th {\n",
       "        text-align: right;\n",
       "    }\n",
       "</style>\n",
       "<table border=\"1\" class=\"dataframe\">\n",
       "  <thead>\n",
       "    <tr style=\"text-align: right;\">\n",
       "      <th></th>\n",
       "      <th>title</th>\n",
       "      <th>selftext</th>\n",
       "      <th>created_utc</th>\n",
       "    </tr>\n",
       "    <tr>\n",
       "      <th>subreddit</th>\n",
       "      <th></th>\n",
       "      <th></th>\n",
       "      <th></th>\n",
       "    </tr>\n",
       "  </thead>\n",
       "  <tbody>\n",
       "    <tr>\n",
       "      <th>0</th>\n",
       "      <td>1428</td>\n",
       "      <td>550</td>\n",
       "      <td>1459</td>\n",
       "    </tr>\n",
       "    <tr>\n",
       "      <th>1</th>\n",
       "      <td>1453</td>\n",
       "      <td>866</td>\n",
       "      <td>1469</td>\n",
       "    </tr>\n",
       "  </tbody>\n",
       "</table>\n",
       "</div>"
      ],
      "text/plain": [
       "           title  selftext  created_utc\n",
       "subreddit                              \n",
       "0           1428       550         1459\n",
       "1           1453       866         1469"
      ]
     },
     "execution_count": 59,
     "metadata": {},
     "output_type": "execute_result"
    }
   ],
   "source": [
    "df.groupby('subreddit').nunique()"
   ]
  },
  {
   "cell_type": "code",
   "execution_count": 60,
   "id": "e7790985",
   "metadata": {},
   "outputs": [],
   "source": [
    "#df.to_csv('../Data/subredditdatacleaned.csv') <- already ran and happpy with output"
   ]
  },
  {
   "cell_type": "markdown",
   "id": "53b0f43f",
   "metadata": {},
   "source": [
    "# Tokenizer/Porter Stemming Words"
   ]
  },
  {
   "cell_type": "code",
   "execution_count": 61,
   "id": "26d2fb6a",
   "metadata": {},
   "outputs": [],
   "source": [
    "from nltk.tokenize import sent_tokenize, word_tokenize, RegexpTokenizer\n",
    "from nltk.stem import WordNetLemmatizer\n",
    "from nltk.stem.porter import PorterStemmer\n",
    "from nltk.corpus import stopwords"
   ]
  },
  {
   "cell_type": "code",
   "execution_count": 63,
   "id": "8b642f5b",
   "metadata": {},
   "outputs": [
    {
     "data": {
      "text/plain": [
       "['Do',\n",
       " 'the',\n",
       " 'crazy',\n",
       " 'customers',\n",
       " 'realize',\n",
       " 'that',\n",
       " 'they',\n",
       " 'become',\n",
       " 'a',\n",
       " 'joke',\n",
       " 'after',\n",
       " 'they',\n",
       " 'leave',\n",
       " '?']"
      ]
     },
     "execution_count": 63,
     "metadata": {},
     "output_type": "execute_result"
    }
   ],
   "source": [
    "word_tokenize(df['title'][0]) # <- Test on first title"
   ]
  },
  {
   "cell_type": "code",
   "execution_count": 71,
   "id": "70769258",
   "metadata": {},
   "outputs": [],
   "source": [
    "p_stemmer = PorterStemmer()"
   ]
  },
  {
   "cell_type": "code",
   "execution_count": 75,
   "id": "d22b567c",
   "metadata": {},
   "outputs": [],
   "source": [
    "def stem_sentence(cell):\n",
    "    tokens = cell.split()\n",
    "    stemmed_tokens = [p_stemmer.stem(token) for token in tokens]\n",
    "    return ' '.join(stemmed_tokens)\n",
    "\n",
    "df['title'] = df['title'].map(stem_sentence)\n",
    "df['selftext'] = df['selftext'].map(stem_sentence)\n",
    "\n",
    "# Inspiration https://stackoverflow.com/questions/43795310/apply-porters-stemmer-to-a-pandas-column-for-each-word"
   ]
  },
  {
   "cell_type": "markdown",
   "id": "ce3cbd86",
   "metadata": {},
   "source": [
    "# Count Vecotirizing into seperate DataFrames title/selftext"
   ]
  },
  {
   "cell_type": "code",
   "execution_count": 39,
   "id": "4e106c66",
   "metadata": {},
   "outputs": [],
   "source": [
    "from sklearn.feature_extraction.text import CountVectorizer"
   ]
  },
  {
   "cell_type": "code",
   "execution_count": 78,
   "id": "5fda9f9f",
   "metadata": {},
   "outputs": [],
   "source": [
    "import nltk\n",
    "stopwords = nltk.corpus.stopwords.words('english')\n",
    "stopwords.append('removed_asdf_fix')"
   ]
  },
  {
   "cell_type": "code",
   "execution_count": 91,
   "id": "e0070e4d",
   "metadata": {},
   "outputs": [],
   "source": [
    "cvec1 = CountVectorizer(stop_words=stopwords)"
   ]
  },
  {
   "cell_type": "code",
   "execution_count": 92,
   "id": "b0260b78",
   "metadata": {},
   "outputs": [
    {
     "data": {
      "text/plain": [
       "CountVectorizer(stop_words=['i', 'me', 'my', 'myself', 'we', 'our', 'ours',\n",
       "                            'ourselves', 'you', \"you're\", \"you've\", \"you'll\",\n",
       "                            \"you'd\", 'your', 'yours', 'yourself', 'yourselves',\n",
       "                            'he', 'him', 'his', 'himself', 'she', \"she's\",\n",
       "                            'her', 'hers', 'herself', 'it', \"it's\", 'its',\n",
       "                            'itself', ...])"
      ]
     },
     "execution_count": 92,
     "metadata": {},
     "output_type": "execute_result"
    }
   ],
   "source": [
    "cvec1.fit(df['title'])"
   ]
  },
  {
   "cell_type": "code",
   "execution_count": 93,
   "id": "7d2c098e",
   "metadata": {},
   "outputs": [],
   "source": [
    "title_cvec = cvec1.transform(df['title'])"
   ]
  },
  {
   "cell_type": "code",
   "execution_count": 83,
   "id": "2cb0632f",
   "metadata": {},
   "outputs": [
    {
     "data": {
      "text/plain": [
       "(2929, 3518)"
      ]
     },
     "execution_count": 83,
     "metadata": {},
     "output_type": "execute_result"
    }
   ],
   "source": [
    "title_cvec.shape"
   ]
  },
  {
   "cell_type": "code",
   "execution_count": 98,
   "id": "36d527b0",
   "metadata": {},
   "outputs": [],
   "source": [
    "title_df = pd.DataFrame(title_cvec.todense(), columns=cvec1.get_feature_names())"
   ]
  },
  {
   "cell_type": "code",
   "execution_count": 122,
   "id": "60fe8d13",
   "metadata": {},
   "outputs": [
    {
     "data": {
      "text/plain": [
       "(2929, 3518)"
      ]
     },
     "execution_count": 122,
     "metadata": {},
     "output_type": "execute_result"
    }
   ],
   "source": [
    "title_df.shape"
   ]
  },
  {
   "cell_type": "code",
   "execution_count": 123,
   "id": "451f1ef8",
   "metadata": {},
   "outputs": [],
   "source": [
    "title_df['which_subreddit'] = df['subreddit']"
   ]
  },
  {
   "cell_type": "code",
   "execution_count": 124,
   "id": "a9e7745c",
   "metadata": {},
   "outputs": [
    {
     "data": {
      "text/plain": [
       "(2929, 3519)"
      ]
     },
     "execution_count": 124,
     "metadata": {},
     "output_type": "execute_result"
    }
   ],
   "source": [
    "title_df.shape"
   ]
  },
  {
   "cell_type": "code",
   "execution_count": 127,
   "id": "2598befa",
   "metadata": {},
   "outputs": [
    {
     "data": {
      "text/plain": [
       "which_subreddit    1406.0\n",
       "custom              244.0\n",
       "work                147.0\n",
       "thi                 105.0\n",
       "get                  95.0\n",
       "want                 94.0\n",
       "call                 83.0\n",
       "job                  81.0\n",
       "support              76.0\n",
       "tech                 73.0\n",
       "time                 73.0\n",
       "whi                  72.0\n",
       "one                  68.0\n",
       "wa                   67.0\n",
       "store                65.0\n",
       "dtype: float64"
      ]
     },
     "execution_count": 127,
     "metadata": {},
     "output_type": "execute_result"
    }
   ],
   "source": [
    "title_df.sum().sort_values(ascending=False).head(15)"
   ]
  },
  {
   "cell_type": "code",
   "execution_count": 101,
   "id": "c8deacff",
   "metadata": {},
   "outputs": [],
   "source": [
    "import matplotlib.pyplot as plt"
   ]
  },
  {
   "cell_type": "code",
   "execution_count": 153,
   "id": "98e37d52",
   "metadata": {},
   "outputs": [
    {
     "data": {
      "image/png": "[encoded data removed]",
      "text/plain": [
       "<Figure size 864x432 with 1 Axes>"
      ]
     },
     "metadata": {
      "needs_background": "light"
     },
     "output_type": "display_data"
    }
   ],
   "source": [
    "ax = title_df.groupby('which_subreddit').sum().T.sort_values(0, ascending=False).head(15).sort_values(0).plot(kind='barh', figsize=(12,6))\n",
    "plt.title('15 Most Common Title Words and their Frequency by Subreddit', size=15)\n",
    "plt.xlabel('Frequency', size=15)\n",
    "plt.ylabel('Word', size=15)\n",
    "ax.legend(title='Subreddit', labels=(\"TalesFromRetail\",\"TalesFromTechSupport\"))\n",
    "#plt.savefig('../Visuals/titlesortedretail.png', bbox_inches='tight');\n",
    "plt.show();"
   ]
  },
  {
   "cell_type": "code",
   "execution_count": 152,
   "id": "a6dee55b",
   "metadata": {},
   "outputs": [
    {
     "data": {
      "image/png": "[encoded data removed]",
      "text/plain": [
       "<Figure size 864x432 with 1 Axes>"
      ]
     },
     "metadata": {
      "needs_background": "light"
     },
     "output_type": "display_data"
    }
   ],
   "source": [
    "ax = title_df.groupby('which_subreddit').sum().T.sort_values(1, ascending=False).head(15).sort_values(1).plot(kind='barh', figsize=(12,6))\n",
    "plt.title('15 Most Common Title Words and their Frequency by Subreddit', size=15)\n",
    "plt.xlabel('Frequency', size=15)\n",
    "plt.ylabel('Word', size=15)\n",
    "ax.legend(title='Subreddit', labels=(\"TalesFromRetail\",\"TalesFromTechSupport\"))\n",
    "#plt.savefig('../Visuals/titlesortedtech.png', bbox_inches='tight');\n",
    "plt.show();"
   ]
  },
  {
   "cell_type": "code",
   "execution_count": 95,
   "id": "cca1d7d3",
   "metadata": {},
   "outputs": [],
   "source": [
    "cvec2 = CountVectorizer(stop_words=stopwords)"
   ]
  },
  {
   "cell_type": "code",
   "execution_count": 96,
   "id": "86118b89",
   "metadata": {},
   "outputs": [
    {
     "data": {
      "text/plain": [
       "CountVectorizer(stop_words=['i', 'me', 'my', 'myself', 'we', 'our', 'ours',\n",
       "                            'ourselves', 'you', \"you're\", \"you've\", \"you'll\",\n",
       "                            \"you'd\", 'your', 'yours', 'yourself', 'yourselves',\n",
       "                            'he', 'him', 'his', 'himself', 'she', \"she's\",\n",
       "                            'her', 'hers', 'herself', 'it', \"it's\", 'its',\n",
       "                            'itself', ...])"
      ]
     },
     "execution_count": 96,
     "metadata": {},
     "output_type": "execute_result"
    }
   ],
   "source": [
    "cvec2.fit(df['selftext'])"
   ]
  },
  {
   "cell_type": "markdown",
   "id": "0ccb4584",
   "metadata": {},
   "source": [
    "## Same process for selftext"
   ]
  },
  {
   "cell_type": "code",
   "execution_count": 97,
   "id": "83ee5636",
   "metadata": {},
   "outputs": [],
   "source": [
    "selftext_cvec = cvec2.transform(df['selftext'])"
   ]
  },
  {
   "cell_type": "code",
   "execution_count": 103,
   "id": "e66da4bc",
   "metadata": {},
   "outputs": [],
   "source": [
    "selftext_df = pd.DataFrame(selftext_cvec.todense(), columns=cvec2.get_feature_names())"
   ]
  },
  {
   "cell_type": "code",
   "execution_count": 114,
   "id": "02b5b162",
   "metadata": {},
   "outputs": [],
   "source": [
    "selftext_df['which_subreddit'] = df['subreddit']"
   ]
  },
  {
   "cell_type": "code",
   "execution_count": 115,
   "id": "b975e1cd",
   "metadata": {},
   "outputs": [
    {
     "data": {
      "text/plain": [
       "(2929, 15488)"
      ]
     },
     "execution_count": 115,
     "metadata": {},
     "output_type": "execute_result"
    }
   ],
   "source": [
    "selftext_df.shape"
   ]
  },
  {
   "cell_type": "code",
   "execution_count": 128,
   "id": "cdff49f4",
   "metadata": {},
   "outputs": [
    {
     "data": {
      "text/plain": [
       "wa                  6901.0\n",
       "thi                 4784.0\n",
       "work                2656.0\n",
       "get                 2600.0\n",
       "one                 2551.0\n",
       "call                1904.0\n",
       "back                1777.0\n",
       "hi                  1766.0\n",
       "go                  1747.0\n",
       "time                1697.0\n",
       "ask                 1545.0\n",
       "like                1515.0\n",
       "know                1417.0\n",
       "which_subreddit     1406.0\n",
       "subredditasdf123    1406.0\n",
       "dtype: float64"
      ]
     },
     "execution_count": 128,
     "metadata": {},
     "output_type": "execute_result"
    }
   ],
   "source": [
    "selftext_df.sum().sort_values(ascending=False).head(15)"
   ]
  },
  {
   "cell_type": "code",
   "execution_count": 117,
   "id": "7f4aa1fc",
   "metadata": {},
   "outputs": [
    {
     "data": {
      "text/html": [
       "<div>\n",
       "<style scoped>\n",
       "    .dataframe tbody tr th:only-of-type {\n",
       "        vertical-align: middle;\n",
       "    }\n",
       "\n",
       "    .dataframe tbody tr th {\n",
       "        vertical-align: top;\n",
       "    }\n",
       "\n",
       "    .dataframe thead th {\n",
       "        text-align: right;\n",
       "    }\n",
       "</style>\n",
       "<table border=\"1\" class=\"dataframe\">\n",
       "  <thead>\n",
       "    <tr style=\"text-align: right;\">\n",
       "      <th>which_subreddit</th>\n",
       "      <th>0.0</th>\n",
       "      <th>1.0</th>\n",
       "    </tr>\n",
       "  </thead>\n",
       "  <tbody>\n",
       "    <tr>\n",
       "      <th>wa</th>\n",
       "      <td>2658.0</td>\n",
       "      <td>4100.0</td>\n",
       "    </tr>\n",
       "    <tr>\n",
       "      <th>thi</th>\n",
       "      <td>1686.0</td>\n",
       "      <td>2990.0</td>\n",
       "    </tr>\n",
       "    <tr>\n",
       "      <th>store</th>\n",
       "      <td>1084.0</td>\n",
       "      <td>134.0</td>\n",
       "    </tr>\n",
       "    <tr>\n",
       "      <th>one</th>\n",
       "      <td>924.0</td>\n",
       "      <td>1570.0</td>\n",
       "    </tr>\n",
       "    <tr>\n",
       "      <th>get</th>\n",
       "      <td>910.0</td>\n",
       "      <td>1644.0</td>\n",
       "    </tr>\n",
       "    <tr>\n",
       "      <th>...</th>\n",
       "      <td>...</td>\n",
       "      <td>...</td>\n",
       "    </tr>\n",
       "    <tr>\n",
       "      <th>leading</th>\n",
       "      <td>0.0</td>\n",
       "      <td>0.0</td>\n",
       "    </tr>\n",
       "    <tr>\n",
       "      <th>leaf</th>\n",
       "      <td>0.0</td>\n",
       "      <td>1.0</td>\n",
       "    </tr>\n",
       "    <tr>\n",
       "      <th>leaflet</th>\n",
       "      <td>0.0</td>\n",
       "      <td>1.0</td>\n",
       "    </tr>\n",
       "    <tr>\n",
       "      <th>learned</th>\n",
       "      <td>0.0</td>\n",
       "      <td>2.0</td>\n",
       "    </tr>\n",
       "    <tr>\n",
       "      <th>subredditasdf123</th>\n",
       "      <td>0.0</td>\n",
       "      <td>1406.0</td>\n",
       "    </tr>\n",
       "  </tbody>\n",
       "</table>\n",
       "<p>15487 rows × 2 columns</p>\n",
       "</div>"
      ],
      "text/plain": [
       "which_subreddit      0.0     1.0\n",
       "wa                2658.0  4100.0\n",
       "thi               1686.0  2990.0\n",
       "store             1084.0   134.0\n",
       "one                924.0  1570.0\n",
       "get                910.0  1644.0\n",
       "...                  ...     ...\n",
       "leading              0.0     0.0\n",
       "leaf                 0.0     1.0\n",
       "leaflet              0.0     1.0\n",
       "learned              0.0     2.0\n",
       "subredditasdf123     0.0  1406.0\n",
       "\n",
       "[15487 rows x 2 columns]"
      ]
     },
     "execution_count": 117,
     "metadata": {},
     "output_type": "execute_result"
    }
   ],
   "source": [
    "selftext_df.groupby('which_subreddit').sum().T.sort_values(0, ascending=False)"
   ]
  },
  {
   "cell_type": "code",
   "execution_count": null,
   "id": "8cb11dd7",
   "metadata": {},
   "outputs": [],
   "source": [
    "selftext_df.drop(columns=['subredditasdf123'], inplace=True)"
   ]
  },
  {
   "cell_type": "code",
   "execution_count": 151,
   "id": "46c8a9af",
   "metadata": {},
   "outputs": [
    {
     "data": {
      "image/png": "[encoded data removed]",
      "text/plain": [
       "<Figure size 864x432 with 1 Axes>"
      ]
     },
     "metadata": {
      "needs_background": "light"
     },
     "output_type": "display_data"
    }
   ],
   "source": [
    "ax = selftext_df.groupby('which_subreddit').sum().T.sort_values(0, ascending=False).head(15).sort_values(0).plot(kind='barh', figsize=(12,6))\n",
    "plt.title('15 Most Common Selftext Words and their Frequency by Subreddit', size=15)\n",
    "plt.xlabel('Frequency', size=15)\n",
    "plt.ylabel('Word', size=15)\n",
    "ax.legend(title='Subreddit', labels=(\"TalesFromRetail\",\"TalesFromTechSupport\"))\n",
    "#plt.savefig('../Visuals/selftextsortedretail.png', bbox_inches='tight');\n",
    "plt.show();"
   ]
  },
  {
   "cell_type": "code",
   "execution_count": 150,
   "id": "ecbc5a3c",
   "metadata": {},
   "outputs": [
    {
     "data": {
      "image/png": "[encoded data removed]",
      "text/plain": [
       "<Figure size 864x432 with 1 Axes>"
      ]
     },
     "metadata": {
      "needs_background": "light"
     },
     "output_type": "display_data"
    }
   ],
   "source": [
    "ax = selftext_df.groupby('which_subreddit').sum().T.sort_values(1, ascending=False).head(15).sort_values(1).plot(kind='barh', figsize=(12,6))\n",
    "plt.title('15 Most Common Selftext Words and their Frequency by Subreddit', size=15)\n",
    "plt.xlabel('Frequency', size=15)\n",
    "plt.ylabel('Word', size=15)\n",
    "ax.legend(title='Subreddit', labels=(\"TalesFromRetail\",\"TalesFromTechSupport\"))\n",
    "#plt.savefig('../Visuals/selftextsortedtech.png', bbox_inches='tight');\n",
    "plt.show()"
   ]
  },
  {
   "cell_type": "code",
   "execution_count": null,
   "id": "4d623798",
   "metadata": {},
   "outputs": [],
   "source": []
  }
 ],
 "metadata": {
  "kernelspec": {
   "display_name": "Python 3",
   "language": "python",
   "name": "python3"
  },
  "language_info": {
   "codemirror_mode": {
    "name": "ipython",
    "version": 3
   },
   "file_extension": ".py",
   "mimetype": "text/x-python",
   "name": "python",
   "nbconvert_exporter": "python",
   "pygments_lexer": "ipython3",
   "version": "3.8.8"
  }
 },
 "nbformat": 4,
 "nbformat_minor": 5
}
