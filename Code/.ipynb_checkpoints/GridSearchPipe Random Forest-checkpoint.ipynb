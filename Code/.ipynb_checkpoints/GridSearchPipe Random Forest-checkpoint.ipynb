{
 "cells": [
  {
   "cell_type": "code",
   "execution_count": 1,
   "id": "47a12a3c",
   "metadata": {},
   "outputs": [],
   "source": [
    "import pandas as pd\n",
    "import numpy as np\n",
    "import matplotlib.pyplot as plt\n",
    "\n",
    "from sklearn.ensemble import RandomForestClassifier\n",
    "from sklearn.feature_extraction.text import CountVectorizer, TfidfVectorizer\n",
    "from sklearn.pipeline import Pipeline\n",
    "from sklearn.model_selection import train_test_split, GridSearchCV\n",
    "from sklearn.metrics import plot_confusion_matrix"
   ]
  },
  {
   "cell_type": "code",
   "execution_count": 2,
   "id": "19c5bd83",
   "metadata": {},
   "outputs": [],
   "source": [
    "df = pd.read_csv('../Data/subredditdatacleaned.csv')"
   ]
  },
  {
   "cell_type": "code",
   "execution_count": 3,
   "id": "91402986",
   "metadata": {},
   "outputs": [
    {
     "data": {
      "text/html": [
       "<div>\n",
       "<style scoped>\n",
       "    .dataframe tbody tr th:only-of-type {\n",
       "        vertical-align: middle;\n",
       "    }\n",
       "\n",
       "    .dataframe tbody tr th {\n",
       "        vertical-align: top;\n",
       "    }\n",
       "\n",
       "    .dataframe thead th {\n",
       "        text-align: right;\n",
       "    }\n",
       "</style>\n",
       "<table border=\"1\" class=\"dataframe\">\n",
       "  <thead>\n",
       "    <tr style=\"text-align: right;\">\n",
       "      <th></th>\n",
       "      <th>Unnamed: 0</th>\n",
       "      <th>title</th>\n",
       "      <th>selftext</th>\n",
       "      <th>subreddit</th>\n",
       "      <th>created_utc</th>\n",
       "    </tr>\n",
       "  </thead>\n",
       "  <tbody>\n",
       "    <tr>\n",
       "      <th>0</th>\n",
       "      <td>0</td>\n",
       "      <td>Do the crazy customers realize that they becom...</td>\n",
       "      <td>removed_asdf_fix</td>\n",
       "      <td>0</td>\n",
       "      <td>1636729943</td>\n",
       "    </tr>\n",
       "    <tr>\n",
       "      <th>1</th>\n",
       "      <td>1</td>\n",
       "      <td>Store music volume controls</td>\n",
       "      <td>My most recent job, and hopefully last, in ret...</td>\n",
       "      <td>0</td>\n",
       "      <td>1636729678</td>\n",
       "    </tr>\n",
       "  </tbody>\n",
       "</table>\n",
       "</div>"
      ],
      "text/plain": [
       "   Unnamed: 0                                              title  \\\n",
       "0           0  Do the crazy customers realize that they becom...   \n",
       "1           1                        Store music volume controls   \n",
       "\n",
       "                                            selftext  subreddit  created_utc  \n",
       "0                                   removed_asdf_fix          0   1636729943  \n",
       "1  My most recent job, and hopefully last, in ret...          0   1636729678  "
      ]
     },
     "execution_count": 3,
     "metadata": {},
     "output_type": "execute_result"
    }
   ],
   "source": [
    "df.head(2)"
   ]
  },
  {
   "cell_type": "code",
   "execution_count": 4,
   "id": "6fd29240",
   "metadata": {},
   "outputs": [],
   "source": [
    "df = df.drop(columns=['Unnamed: 0'])"
   ]
  },
  {
   "cell_type": "code",
   "execution_count": 5,
   "id": "e7324379",
   "metadata": {},
   "outputs": [
    {
     "data": {
      "text/plain": [
       "1    0.501878\n",
       "0    0.498122\n",
       "Name: subreddit, dtype: float64"
      ]
     },
     "execution_count": 5,
     "metadata": {},
     "output_type": "execute_result"
    }
   ],
   "source": [
    "df['subreddit'].value_counts(normalize=True)"
   ]
  },
  {
   "cell_type": "markdown",
   "id": "ddd18d0d",
   "metadata": {},
   "source": [
    "### Our baseline accuracy rate will be 50.18%, based of distribution above"
   ]
  },
  {
   "cell_type": "code",
   "execution_count": 6,
   "id": "aacd1dd9",
   "metadata": {},
   "outputs": [
    {
     "data": {
      "text/plain": [
       "1    1105\n",
       "0    1091\n",
       "Name: subreddit, dtype: int64"
      ]
     },
     "execution_count": 6,
     "metadata": {},
     "output_type": "execute_result"
    }
   ],
   "source": [
    "df['all_words'] = df['title'] + df['selftext']\n",
    "\n",
    "features = ['title', 'selftext'] \n",
    "X = df['all_words']\n",
    "y = df['subreddit']\n",
    "\n",
    "X_train, X_test, y_train, y_test = train_test_split(X, y, random_state=42)\n",
    "\n",
    "y_train.value_counts()"
   ]
  },
  {
   "cell_type": "markdown",
   "id": "89d7f276",
   "metadata": {},
   "source": [
    "# Stopwords import/fix"
   ]
  },
  {
   "cell_type": "code",
   "execution_count": 7,
   "id": "72213d4b",
   "metadata": {},
   "outputs": [],
   "source": [
    "import nltk\n",
    "stopwords = nltk.corpus.stopwords.words('english')\n",
    "stopwords.append('removed_asdf_fix') # adding stop word"
   ]
  },
  {
   "cell_type": "markdown",
   "id": "fd5e3015",
   "metadata": {},
   "source": [
    "# Model 1 RF Pipe/GS CountVectorizer"
   ]
  },
  {
   "cell_type": "code",
   "execution_count": 8,
   "id": "0f87119b",
   "metadata": {},
   "outputs": [],
   "source": [
    "pipe = Pipeline([\n",
    "    ('cvec', CountVectorizer()),\n",
    "    ('model', RandomForestClassifier())\n",
    "])"
   ]
  },
  {
   "cell_type": "code",
   "execution_count": 23,
   "id": "745ac239",
   "metadata": {},
   "outputs": [
    {
     "name": "stdout",
     "output_type": "stream",
     "text": [
      "0.8647432180575689\n"
     ]
    },
    {
     "data": {
      "text/plain": [
       "{'cvec__binary': False,\n",
       " 'cvec__max_df': 0.6,\n",
       " 'cvec__min_df': 4,\n",
       " 'cvec__stop_words': 'english',\n",
       " 'model__min_samples_leaf': 1,\n",
       " 'model__min_samples_split': 10,\n",
       " 'model__n_estimators': 200}"
      ]
     },
     "execution_count": 23,
     "metadata": {},
     "output_type": "execute_result"
    }
   ],
   "source": [
    "params = {\n",
    "    'cvec__stop_words': ['english'],\n",
    "    'cvec__min_df': [4],\n",
    "    'cvec__max_df':[.6],\n",
    "    'cvec__binary': [False],\n",
    "    #'cvec__ngram_range': [(1,1), (1,2)], <- default best so commented out\n",
    "    'model__n_estimators': [200],\n",
    "    #'model__max_depth': [30, 40, 50] <- none seems to work better\n",
    "    'model__min_samples_leaf': [1, 2],\n",
    "    'model__min_samples_split': [10, 15] \n",
    "}\n",
    "gs = GridSearchCV(pipe, param_grid=params)\n",
    "gs.fit(X_train, y_train)\n",
    "print(gs.best_score_)\n",
    "gs.best_params_"
   ]
  },
  {
   "cell_type": "code",
   "execution_count": 58,
   "id": "14a0f75d",
   "metadata": {},
   "outputs": [
    {
     "data": {
      "image/png": "[encoded data removed]",
      "text/plain": [
       "<Figure size 432x432 with 2 Axes>"
      ]
     },
     "metadata": {
      "needs_background": "light"
     },
     "output_type": "display_data"
    }
   ],
   "source": [
    "# inspiration https://stackoverflow.com/questions/61325314/how-to-change-plot-confusion-matrix-default-figure-size-in-sklearn-metrics-packa\n",
    "fig, ax = plt.subplots(figsize=(6, 6))\n",
    "plot_confusion_matrix(gs, X_test, y_test, display_labels=['Retail', 'Tech'], ax=ax)\n",
    "plt.title('Confusion Matrix Count Vectorizer', size=15)\n",
    "plt.xlabel('Predicted Label', size=12)\n",
    "plt.ylabel('True Label', size=12);\n",
    "plt.savefig('../Visuals/rfmatrixcountVectorizer.png', bbox_inches='tight')"
   ]
  },
  {
   "cell_type": "code",
   "execution_count": 25,
   "id": "51a939fb",
   "metadata": {},
   "outputs": [],
   "source": [
    "tn1, fp1, fn1, tp1 = 338, 30, 89, 276"
   ]
  },
  {
   "cell_type": "markdown",
   "id": "688d62cc",
   "metadata": {},
   "source": [
    "### Accuracy"
   ]
  },
  {
   "cell_type": "code",
   "execution_count": 26,
   "id": "3b20225b",
   "metadata": {},
   "outputs": [
    {
     "data": {
      "text/plain": [
       "0.8376534788540245"
      ]
     },
     "execution_count": 26,
     "metadata": {},
     "output_type": "execute_result"
    }
   ],
   "source": [
    "(tn1 + tp1) / (tn1 +tp1 + fp1 + fn1)"
   ]
  },
  {
   "cell_type": "markdown",
   "id": "ca859877",
   "metadata": {},
   "source": [
    "### Specificity"
   ]
  },
  {
   "cell_type": "code",
   "execution_count": 27,
   "id": "286096dd",
   "metadata": {},
   "outputs": [
    {
     "data": {
      "text/plain": [
       "0.9184782608695652"
      ]
     },
     "execution_count": 27,
     "metadata": {},
     "output_type": "execute_result"
    }
   ],
   "source": [
    "tn1 / (tn1 + fp1)"
   ]
  },
  {
   "cell_type": "markdown",
   "id": "3d222e5b",
   "metadata": {},
   "source": [
    "### Sensitivity"
   ]
  },
  {
   "cell_type": "code",
   "execution_count": 28,
   "id": "8213ae9f",
   "metadata": {},
   "outputs": [
    {
     "data": {
      "text/plain": [
       "0.7561643835616438"
      ]
     },
     "execution_count": 28,
     "metadata": {},
     "output_type": "execute_result"
    }
   ],
   "source": [
    "tp1 / (tp1 + fn1)"
   ]
  },
  {
   "cell_type": "markdown",
   "id": "cf3b1e39",
   "metadata": {},
   "source": [
    "### Precision"
   ]
  },
  {
   "cell_type": "code",
   "execution_count": 29,
   "id": "87a1a8ef",
   "metadata": {},
   "outputs": [
    {
     "data": {
      "text/plain": [
       "0.9019607843137255"
      ]
     },
     "execution_count": 29,
     "metadata": {},
     "output_type": "execute_result"
    }
   ],
   "source": [
    "tp1 / (tp1 + fp1)"
   ]
  },
  {
   "cell_type": "markdown",
   "id": "d9c37ff2",
   "metadata": {},
   "source": [
    "# Model 2 Pipe/Gridsearch Tfid Vectorizer"
   ]
  },
  {
   "cell_type": "code",
   "execution_count": 31,
   "id": "a0600d6e",
   "metadata": {},
   "outputs": [],
   "source": [
    "pipe2 = Pipeline([\n",
    "    ('tfidf', TfidfVectorizer()),\n",
    "    ('model', RandomForestClassifier())\n",
    "])"
   ]
  },
  {
   "cell_type": "code",
   "execution_count": 49,
   "id": "0e9b2421",
   "metadata": {},
   "outputs": [
    {
     "name": "stdout",
     "output_type": "stream",
     "text": [
      "0.861557258231518\n"
     ]
    },
    {
     "data": {
      "text/plain": [
       "{'model__min_samples_split': 30,\n",
       " 'tfidf__binary': False,\n",
       " 'tfidf__max_df': 0.6,\n",
       " 'tfidf__min_df': 4,\n",
       " 'tfidf__ngram_range': (1, 2),\n",
       " 'tfidf__stop_words': 'english'}"
      ]
     },
     "execution_count": 49,
     "metadata": {},
     "output_type": "execute_result"
    }
   ],
   "source": [
    "params2 = {\n",
    "    'tfidf__stop_words': ['english'],\n",
    "    'tfidf__min_df': [4],\n",
    "    'tfidf__max_df':[.6],\n",
    "    'tfidf__binary': [False],\n",
    "    'tfidf__ngram_range': [(1,2)],\n",
    "    #'model__n_estimators': [100, 200],\n",
    "    #'model__max_depth': [None, 30, 40, 50] # <- none seems to work better\n",
    "    #'model__min_samples_leaf': [1, 2, 3], default better\n",
    "    'model__min_samples_split': [25, 30, 35] \n",
    "}\n",
    "gs1 = GridSearchCV(pipe2, param_grid=params2)\n",
    "gs1.fit(X_train, y_train)\n",
    "print(gs1.best_score_)\n",
    "gs1.best_params_"
   ]
  },
  {
   "cell_type": "code",
   "execution_count": 57,
   "id": "8cf72ed6",
   "metadata": {},
   "outputs": [
    {
     "data": {
      "image/png": "[encoded data removed]",
      "text/plain": [
       "<Figure size 432x432 with 2 Axes>"
      ]
     },
     "metadata": {
      "needs_background": "light"
     },
     "output_type": "display_data"
    }
   ],
   "source": [
    "# inspiration https://stackoverflow.com/questions/61325314/how-to-change-plot-confusion-matrix-default-figure-size-in-sklearn-metrics-packa\n",
    "fig, ax = plt.subplots(figsize=(6, 6))\n",
    "plot_confusion_matrix(gs1, X_test, y_test, display_labels=['Retail', 'Tech'], cmap='viridis', ax=ax)\n",
    "plt.title('Confusion Matrix Tfid Vectorizer', size=15)\n",
    "plt.xlabel('Predicted Label', size=12)\n",
    "plt.ylabel('True Label', size=12);\n",
    "plt.savefig('../Visuals/rfmatrixTfidVectorizer.png', bbox_inches='tight')"
   ]
  },
  {
   "cell_type": "code",
   "execution_count": 52,
   "id": "d6452ee3",
   "metadata": {},
   "outputs": [],
   "source": [
    "tn2, fp2, fn2, tp2 = 342, 26, 96, 269"
   ]
  },
  {
   "cell_type": "markdown",
   "id": "03cd66a3",
   "metadata": {},
   "source": [
    "### Accuracy"
   ]
  },
  {
   "cell_type": "code",
   "execution_count": 53,
   "id": "4a490590",
   "metadata": {},
   "outputs": [
    {
     "data": {
      "text/plain": [
       "0.8335607094133697"
      ]
     },
     "execution_count": 53,
     "metadata": {},
     "output_type": "execute_result"
    }
   ],
   "source": [
    "(tn2 + tp2) / (tn2 +tp2 + fp2 + fn2)"
   ]
  },
  {
   "cell_type": "markdown",
   "id": "9482901e",
   "metadata": {},
   "source": [
    "### Specificity"
   ]
  },
  {
   "cell_type": "code",
   "execution_count": 54,
   "id": "a33f2cb3",
   "metadata": {},
   "outputs": [
    {
     "data": {
      "text/plain": [
       "0.9293478260869565"
      ]
     },
     "execution_count": 54,
     "metadata": {},
     "output_type": "execute_result"
    }
   ],
   "source": [
    "tn2 / (tn2 + fp2)"
   ]
  },
  {
   "cell_type": "markdown",
   "id": "90025ea8",
   "metadata": {},
   "source": [
    "### Sensitivity"
   ]
  },
  {
   "cell_type": "code",
   "execution_count": 55,
   "id": "82fe98a6",
   "metadata": {},
   "outputs": [
    {
     "data": {
      "text/plain": [
       "0.736986301369863"
      ]
     },
     "execution_count": 55,
     "metadata": {},
     "output_type": "execute_result"
    }
   ],
   "source": [
    "tp2 / (tp2 + fn2)"
   ]
  },
  {
   "cell_type": "markdown",
   "id": "2ca36fc0",
   "metadata": {},
   "source": [
    "### Precision"
   ]
  },
  {
   "cell_type": "code",
   "execution_count": 56,
   "id": "337c7aa2",
   "metadata": {},
   "outputs": [
    {
     "data": {
      "text/plain": [
       "0.911864406779661"
      ]
     },
     "execution_count": 56,
     "metadata": {},
     "output_type": "execute_result"
    }
   ],
   "source": [
    "tp2 / (tp2 + fp2)"
   ]
  },
  {
   "cell_type": "code",
   "execution_count": null,
   "id": "2edbd284",
   "metadata": {},
   "outputs": [],
   "source": []
  }
 ],
 "metadata": {
  "kernelspec": {
   "display_name": "Python 3",
   "language": "python",
   "name": "python3"
  },
  "language_info": {
   "codemirror_mode": {
    "name": "ipython",
    "version": 3
   },
   "file_extension": ".py",
   "mimetype": "text/x-python",
   "name": "python",
   "nbconvert_exporter": "python",
   "pygments_lexer": "ipython3",
   "version": "3.8.8"
  }
 },
 "nbformat": 4,
 "nbformat_minor": 5
}
