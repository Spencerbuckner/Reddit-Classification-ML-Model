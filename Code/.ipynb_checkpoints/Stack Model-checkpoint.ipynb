{
 "cells": [
  {
   "cell_type": "code",
   "execution_count": 13,
   "id": "a1bb66bb",
   "metadata": {},
   "outputs": [],
   "source": [
    "import pandas as pd\n",
    "import numpy as np\n",
    "import matplotlib.pyplot as plt\n",
    "\n",
    "from sklearn.linear_model import LogisticRegression\n",
    "from sklearn.ensemble import RandomForestClassifier, StackingClassifier\n",
    "from sklearn.neighbors import KNeighborsClassifier\n",
    "from sklearn.preprocessing import StandardScaler\n",
    "from sklearn.feature_extraction.text import CountVectorizer, TfidfVectorizer\n",
    "from sklearn.pipeline import Pipeline\n",
    "from sklearn.model_selection import train_test_split, GridSearchCV, cross_val_score\n",
    "from sklearn.metrics import plot_confusion_matrix"
   ]
  },
  {
   "cell_type": "code",
   "execution_count": 3,
   "id": "cc0944e8",
   "metadata": {},
   "outputs": [],
   "source": [
    "df = pd.read_csv('../Data/subredditdatacleaned.csv')"
   ]
  },
  {
   "cell_type": "code",
   "execution_count": 4,
   "id": "171b4dfb",
   "metadata": {},
   "outputs": [],
   "source": [
    "df = df.drop(columns=['Unnamed: 0'])"
   ]
  },
  {
   "cell_type": "code",
   "execution_count": 5,
   "id": "fcae6224",
   "metadata": {},
   "outputs": [],
   "source": [
    "df['all_words'] = df['title'] + df['selftext']\n",
    "\n",
    "features = ['title', 'selftext'] \n",
    "X = df['all_words']\n",
    "y = df['subreddit']\n",
    "\n",
    "X_train, X_test, y_train, y_test = train_test_split(X, y, random_state=42)"
   ]
  },
  {
   "cell_type": "code",
   "execution_count": 6,
   "id": "00016159",
   "metadata": {},
   "outputs": [],
   "source": [
    "import nltk\n",
    "stopwords = nltk.corpus.stopwords.words('english')\n",
    "stopwords.append('removed_asdf_fix') "
   ]
  },
  {
   "cell_type": "markdown",
   "id": "24a4cdc3",
   "metadata": {},
   "source": [
    "# Creating Stacked model from all 6 models"
   ]
  },
  {
   "cell_type": "code",
   "execution_count": 17,
   "id": "10f747ce",
   "metadata": {},
   "outputs": [],
   "source": [
    "level_1_models = [\n",
    "    ('logreg1_pipe', Pipeline([\n",
    "        ('cvec', CountVectorizer(stop_words='english', ngram_range=(1,2), max_df=.3, min_df=4, binary=True)),\n",
    "        ('logreg', LogisticRegression())\n",
    "    ])),          \n",
    "    ('logreg2_pipe', Pipeline([\n",
    "        ('tfidf', TfidfVectorizer(stop_words='english', ngram_range=(1,1), max_df=.3, min_df=3, binary=True)),\n",
    "        ('logreg', LogisticRegression(solver='liblinear'))\n",
    "    ])),\n",
    "     ('knn1_pipe', Pipeline([\n",
    "        ('cvec', CountVectorizer(stop_words=stopwords, max_df=.4, min_df=7, binary=True)),\n",
    "        ('ss', StandardScaler(with_mean=False)),\n",
    "        ('knn', KNeighborsClassifier(n_neighbors=7, weights='distance'))\n",
    "    ])),\n",
    "     ('knn2_pipe', Pipeline([\n",
    "        ('tfidf', TfidfVectorizer(stop_words='english', max_df=.3, min_df=7, binary=False)),\n",
    "        ('ss', StandardScaler(with_mean=False)),\n",
    "        ('knn', KNeighborsClassifier(weights='distance'))\n",
    "    ])),\n",
    "    ('rf1_pipe', Pipeline([\n",
    "        ('cvec', CountVectorizer(stop_words='english', max_df=.6, min_df=4, binary=False)),\n",
    "        ('rf', RandomForestClassifier(n_estimators=200, min_samples_split=10, min_samples_leaf=1))\n",
    "    ])),\n",
    "     ('rf2_pipe', Pipeline([\n",
    "        ('tfidf', TfidfVectorizer(stop_words='english', ngram_range=(1,2), max_df=.6, min_df=4, binary=False)),\n",
    "        ('rf', RandomForestClassifier(min_samples_split=30))\n",
    "    ]))\n",
    "]\n",
    "\n",
    "stack = StackingClassifier(estimators=level_1_models, final_estimator=LogisticRegression())"
   ]
  },
  {
   "cell_type": "code",
   "execution_count": 18,
   "id": "6776942e",
   "metadata": {},
   "outputs": [
    {
     "data": {
      "text/plain": [
       "0.8706626630772417"
      ]
     },
     "execution_count": 18,
     "metadata": {},
     "output_type": "execute_result"
    }
   ],
   "source": [
    "cross_val_score(stack, X_train, y_train).mean()"
   ]
  },
  {
   "cell_type": "code",
   "execution_count": 19,
   "id": "7053941a",
   "metadata": {},
   "outputs": [],
   "source": [
    "stack.fit(X_train, y_train);"
   ]
  },
  {
   "cell_type": "code",
   "execution_count": 20,
   "id": "46647053",
   "metadata": {},
   "outputs": [
    {
     "data": {
      "text/plain": [
       "0.9740437158469946"
      ]
     },
     "execution_count": 20,
     "metadata": {},
     "output_type": "execute_result"
    }
   ],
   "source": [
    "stack.score(X_train, y_train)"
   ]
  },
  {
   "cell_type": "code",
   "execution_count": 21,
   "id": "491282bd",
   "metadata": {},
   "outputs": [
    {
     "data": {
      "text/plain": [
       "0.8472032742155525"
      ]
     },
     "execution_count": 21,
     "metadata": {},
     "output_type": "execute_result"
    }
   ],
   "source": [
    "stack.score(X_test, y_test)"
   ]
  },
  {
   "cell_type": "code",
   "execution_count": 28,
   "id": "e2edc161",
   "metadata": {},
   "outputs": [
    {
     "data": {
      "image/png": "[encoded data removed]",
      "text/plain": [
       "<Figure size 432x432 with 2 Axes>"
      ]
     },
     "metadata": {
      "needs_background": "light"
     },
     "output_type": "display_data"
    }
   ],
   "source": [
    "fig, ax = plt.subplots(figsize=(6, 6))\n",
    "plot_confusion_matrix(stack, X_test, y_test, display_labels=['Retail', 'Tech'], cmap='viridis', ax=ax)\n",
    "plt.title('Confusion Matrix Stack Model', size=15)\n",
    "plt.xlabel('Predicted Label', size=12)\n",
    "plt.ylabel('True Label', size=12);\n",
    "plt.savefig('../Visuals/stackedmodelmatrix.png', bbox_inches='tight')"
   ]
  },
  {
   "cell_type": "code",
   "execution_count": 23,
   "id": "6f5d3eff",
   "metadata": {},
   "outputs": [],
   "source": [
    "tn1, fp1, fn1, tp1 = 327, 41, 71, 294"
   ]
  },
  {
   "cell_type": "markdown",
   "id": "9499620c",
   "metadata": {},
   "source": [
    "### Accuracy"
   ]
  },
  {
   "cell_type": "code",
   "execution_count": 24,
   "id": "539619aa",
   "metadata": {},
   "outputs": [
    {
     "data": {
      "text/plain": [
       "0.8472032742155525"
      ]
     },
     "execution_count": 24,
     "metadata": {},
     "output_type": "execute_result"
    }
   ],
   "source": [
    "(tn1 + tp1) / (tn1 +tp1 + fp1 + fn1)"
   ]
  },
  {
   "cell_type": "markdown",
   "id": "22f6d81d",
   "metadata": {},
   "source": [
    "### Specificity"
   ]
  },
  {
   "cell_type": "code",
   "execution_count": 25,
   "id": "52d2a5a2",
   "metadata": {},
   "outputs": [
    {
     "data": {
      "text/plain": [
       "0.8885869565217391"
      ]
     },
     "execution_count": 25,
     "metadata": {},
     "output_type": "execute_result"
    }
   ],
   "source": [
    "tn1 / (tn1 + fp1)"
   ]
  },
  {
   "cell_type": "markdown",
   "id": "16e410e3",
   "metadata": {},
   "source": [
    "### Sensitivity"
   ]
  },
  {
   "cell_type": "code",
   "execution_count": 26,
   "id": "ba0666e9",
   "metadata": {},
   "outputs": [
    {
     "data": {
      "text/plain": [
       "0.8054794520547945"
      ]
     },
     "execution_count": 26,
     "metadata": {},
     "output_type": "execute_result"
    }
   ],
   "source": [
    "tp1 / (tp1 + fn1)"
   ]
  },
  {
   "cell_type": "markdown",
   "id": "73e73da0",
   "metadata": {},
   "source": [
    "### Precision"
   ]
  },
  {
   "cell_type": "code",
   "execution_count": 27,
   "id": "21d9186c",
   "metadata": {},
   "outputs": [
    {
     "data": {
      "text/plain": [
       "0.8776119402985074"
      ]
     },
     "execution_count": 27,
     "metadata": {},
     "output_type": "execute_result"
    }
   ],
   "source": [
    "tp1 / (tp1 + fp1)"
   ]
  },
  {
   "cell_type": "code",
   "execution_count": null,
   "id": "6ccc086a",
   "metadata": {},
   "outputs": [],
   "source": []
  }
 ],
 "metadata": {
  "kernelspec": {
   "display_name": "Python 3",
   "language": "python",
   "name": "python3"
  },
  "language_info": {
   "codemirror_mode": {
    "name": "ipython",
    "version": 3
   },
   "file_extension": ".py",
   "mimetype": "text/x-python",
   "name": "python",
   "nbconvert_exporter": "python",
   "pygments_lexer": "ipython3",
   "version": "3.8.8"
  }
 },
 "nbformat": 4,
 "nbformat_minor": 5
}
