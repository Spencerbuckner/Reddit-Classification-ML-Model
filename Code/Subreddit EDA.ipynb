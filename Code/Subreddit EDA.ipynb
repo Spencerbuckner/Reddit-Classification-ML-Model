{
 "cells": [
  {
   "cell_type": "code",
   "execution_count": 43,
   "id": "e5e18d70",
   "metadata": {},
   "outputs": [],
   "source": [
    "import pandas as pd\n",
    "import numpy as np"
   ]
  },
  {
   "cell_type": "code",
   "execution_count": 44,
   "id": "80de1931",
   "metadata": {},
   "outputs": [],
   "source": [
    "df = pd.read_csv('../Data/subredditdata.csv')"
   ]
  },
  {
   "cell_type": "code",
   "execution_count": 45,
   "id": "00c4e332",
   "metadata": {},
   "outputs": [
    {
     "data": {
      "text/html": [
       "<div>\n",
       "<style scoped>\n",
       "    .dataframe tbody tr th:only-of-type {\n",
       "        vertical-align: middle;\n",
       "    }\n",
       "\n",
       "    .dataframe tbody tr th {\n",
       "        vertical-align: top;\n",
       "    }\n",
       "\n",
       "    .dataframe thead th {\n",
       "        text-align: right;\n",
       "    }\n",
       "</style>\n",
       "<table border=\"1\" class=\"dataframe\">\n",
       "  <thead>\n",
       "    <tr style=\"text-align: right;\">\n",
       "      <th></th>\n",
       "      <th>title</th>\n",
       "      <th>selftext</th>\n",
       "      <th>subreddit</th>\n",
       "      <th>created_utc</th>\n",
       "    </tr>\n",
       "  </thead>\n",
       "  <tbody>\n",
       "    <tr>\n",
       "      <th>0</th>\n",
       "      <td>Do the crazy customers realize that they becom...</td>\n",
       "      <td>[removed]</td>\n",
       "      <td>TalesFromRetail</td>\n",
       "      <td>1636729943</td>\n",
       "    </tr>\n",
       "    <tr>\n",
       "      <th>1</th>\n",
       "      <td>Store music volume controls</td>\n",
       "      <td>My most recent job, and hopefully last, in ret...</td>\n",
       "      <td>TalesFromRetail</td>\n",
       "      <td>1636729678</td>\n",
       "    </tr>\n",
       "    <tr>\n",
       "      <th>2</th>\n",
       "      <td>Ways of Rejection</td>\n",
       "      <td>I'll just hop right into it as there's no poin...</td>\n",
       "      <td>TalesFromRetail</td>\n",
       "      <td>1636725427</td>\n",
       "    </tr>\n",
       "    <tr>\n",
       "      <th>3</th>\n",
       "      <td>JUST TELL US WHAT IT'S USED FOR!</td>\n",
       "      <td>[removed]</td>\n",
       "      <td>TalesFromRetail</td>\n",
       "      <td>1636694714</td>\n",
       "    </tr>\n",
       "    <tr>\n",
       "      <th>4</th>\n",
       "      <td>You've got to go collect stray shopping carts ...</td>\n",
       "      <td>[removed]</td>\n",
       "      <td>TalesFromRetail</td>\n",
       "      <td>1636679308</td>\n",
       "    </tr>\n",
       "  </tbody>\n",
       "</table>\n",
       "</div>"
      ],
      "text/plain": [
       "                                               title  \\\n",
       "0  Do the crazy customers realize that they becom...   \n",
       "1                        Store music volume controls   \n",
       "2                                  Ways of Rejection   \n",
       "3                   JUST TELL US WHAT IT'S USED FOR!   \n",
       "4  You've got to go collect stray shopping carts ...   \n",
       "\n",
       "                                            selftext        subreddit  \\\n",
       "0                                          [removed]  TalesFromRetail   \n",
       "1  My most recent job, and hopefully last, in ret...  TalesFromRetail   \n",
       "2  I'll just hop right into it as there's no poin...  TalesFromRetail   \n",
       "3                                          [removed]  TalesFromRetail   \n",
       "4                                          [removed]  TalesFromRetail   \n",
       "\n",
       "   created_utc  \n",
       "0   1636729943  \n",
       "1   1636729678  \n",
       "2   1636725427  \n",
       "3   1636694714  \n",
       "4   1636679308  "
      ]
     },
     "execution_count": 45,
     "metadata": {},
     "output_type": "execute_result"
    }
   ],
   "source": [
    "df.head()"
   ]
  },
  {
   "cell_type": "markdown",
   "id": "73c8d4e5",
   "metadata": {},
   "source": [
    "### Dropping NaN from data set"
   ]
  },
  {
   "cell_type": "code",
   "execution_count": 46,
   "id": "5003d889",
   "metadata": {},
   "outputs": [
    {
     "data": {
      "text/plain": [
       "title           0\n",
       "selftext       65\n",
       "subreddit       0\n",
       "created_utc     0\n",
       "dtype: int64"
      ]
     },
     "execution_count": 46,
     "metadata": {},
     "output_type": "execute_result"
    }
   ],
   "source": [
    "df.isnull().sum()"
   ]
  },
  {
   "cell_type": "code",
   "execution_count": 47,
   "id": "c114fba5",
   "metadata": {},
   "outputs": [
    {
     "data": {
      "text/plain": [
       "subreddit\n",
       "TalesFromRetail         41\n",
       "talesfromtechsupport    24\n",
       "dtype: int64"
      ]
     },
     "execution_count": 47,
     "metadata": {},
     "output_type": "execute_result"
    }
   ],
   "source": [
    "df[df['selftext'].isnull()].value_counts(df['subreddit']) # of rows for each with blank self texts"
   ]
  },
  {
   "cell_type": "code",
   "execution_count": 48,
   "id": "9cd46efe",
   "metadata": {},
   "outputs": [],
   "source": [
    "df = df.dropna() # all 65 na rows are dropped now"
   ]
  },
  {
   "cell_type": "code",
   "execution_count": 49,
   "id": "d875ae4f",
   "metadata": {},
   "outputs": [
    {
     "data": {
      "text/plain": [
       "talesfromtechsupport    1470\n",
       "TalesFromRetail         1459\n",
       "Name: subreddit, dtype: int64"
      ]
     },
     "execution_count": 49,
     "metadata": {},
     "output_type": "execute_result"
    }
   ],
   "source": [
    "df['subreddit'].value_counts()"
   ]
  },
  {
   "cell_type": "code",
   "execution_count": 50,
   "id": "36e1b606",
   "metadata": {},
   "outputs": [
    {
     "data": {
      "text/plain": [
       "talesfromtechsupport    0.501878\n",
       "TalesFromRetail         0.498122\n",
       "Name: subreddit, dtype: float64"
      ]
     },
     "execution_count": 50,
     "metadata": {},
     "output_type": "execute_result"
    }
   ],
   "source": [
    "df['subreddit'].value_counts(normalize=True) # distribution still almost 50/50"
   ]
  },
  {
   "cell_type": "markdown",
   "id": "6c29d5b5",
   "metadata": {},
   "source": [
    "### Checking the dtypes and setting subreddit column to binary"
   ]
  },
  {
   "cell_type": "code",
   "execution_count": 51,
   "id": "053ff5a1",
   "metadata": {},
   "outputs": [
    {
     "data": {
      "text/plain": [
       "title          object\n",
       "selftext       object\n",
       "subreddit      object\n",
       "created_utc     int64\n",
       "dtype: object"
      ]
     },
     "execution_count": 51,
     "metadata": {},
     "output_type": "execute_result"
    }
   ],
   "source": [
    "df.dtypes"
   ]
  },
  {
   "cell_type": "markdown",
   "id": "992aa202",
   "metadata": {},
   "source": [
    "### TalesFromRetail = 0, TalesFromTechSupport = 1"
   ]
  },
  {
   "cell_type": "code",
   "execution_count": 52,
   "id": "d2629340",
   "metadata": {},
   "outputs": [],
   "source": [
    "df['subreddit'] = df['subreddit'].map({'TalesFromRetail': 0, 'talesfromtechsupport': 1})"
   ]
  },
  {
   "cell_type": "code",
   "execution_count": 53,
   "id": "d29e5cfa",
   "metadata": {},
   "outputs": [
    {
     "data": {
      "text/html": [
       "<div>\n",
       "<style scoped>\n",
       "    .dataframe tbody tr th:only-of-type {\n",
       "        vertical-align: middle;\n",
       "    }\n",
       "\n",
       "    .dataframe tbody tr th {\n",
       "        vertical-align: top;\n",
       "    }\n",
       "\n",
       "    .dataframe thead th {\n",
       "        text-align: right;\n",
       "    }\n",
       "</style>\n",
       "<table border=\"1\" class=\"dataframe\">\n",
       "  <thead>\n",
       "    <tr style=\"text-align: right;\">\n",
       "      <th></th>\n",
       "      <th>title</th>\n",
       "      <th>selftext</th>\n",
       "      <th>subreddit</th>\n",
       "      <th>created_utc</th>\n",
       "    </tr>\n",
       "  </thead>\n",
       "  <tbody>\n",
       "    <tr>\n",
       "      <th>0</th>\n",
       "      <td>Do the crazy customers realize that they becom...</td>\n",
       "      <td>[removed]</td>\n",
       "      <td>0</td>\n",
       "      <td>1636729943</td>\n",
       "    </tr>\n",
       "    <tr>\n",
       "      <th>1</th>\n",
       "      <td>Store music volume controls</td>\n",
       "      <td>My most recent job, and hopefully last, in ret...</td>\n",
       "      <td>0</td>\n",
       "      <td>1636729678</td>\n",
       "    </tr>\n",
       "  </tbody>\n",
       "</table>\n",
       "</div>"
      ],
      "text/plain": [
       "                                               title  \\\n",
       "0  Do the crazy customers realize that they becom...   \n",
       "1                        Store music volume controls   \n",
       "\n",
       "                                            selftext  subreddit  created_utc  \n",
       "0                                          [removed]          0   1636729943  \n",
       "1  My most recent job, and hopefully last, in ret...          0   1636729678  "
      ]
     },
     "execution_count": 53,
     "metadata": {},
     "output_type": "execute_result"
    }
   ],
   "source": [
    "df.head(2)"
   ]
  },
  {
   "cell_type": "markdown",
   "id": "f5cd0052",
   "metadata": {},
   "source": [
    "### Furthur Exploration"
   ]
  },
  {
   "cell_type": "code",
   "execution_count": 54,
   "id": "6e5707d6",
   "metadata": {},
   "outputs": [
    {
     "data": {
      "text/plain": [
       "[removed]                                                                                                                                                                                                                                                                                                                                                                                                                                                                                                                                                                                                                                                                                                                                                                                                                                                                                                                                                                                                                                                                                                                                                                                                                                                                                                                                                                                                                                                                                                                                                                                                                                                                                                                                                                                                                                                                                                                                                                                                                                                                                                                                                                                                                                                                                                                                                                                                                                                                                                                                                                                                                                                                                                                                                                                                                                                                                                                                                                                                                                                                                                                                                                                                                                                                                                                                                                                                                                                                                                                                                                                                                                                                                                                                                                                                                                                                                                                                                                                                                                                                                                                                                                                                                                                                                                                                                                                                                                                                                                                                                                                                                                                                                                                                                                                                                                                                                                                                                                                                                                                                                                                                                                                                                                                                                                                                                                                                                                                                                                                                                                                                                                                                                                                                                                                                                                                                                                                                                                                                                                                                                                                                                                                                                                                                                                                                                                                                                                                                                                                                  1503\n",
       "Welcome to /r/TalesFromRetail's Express Lane - your quick stop for short tales, pithy observations and general retail chat about how things are going with your store, your customers and yourselves.\\n\\nPlease [follow the rules](/r/TalesFromRetail/wiki/) regarding anonymity and derogatory speech.\\n\\n*(All comments will be sorted by \"new\")*                                                                                                                                                                                                                                                                                                                                                                                                                                                                                                                                                                                                                                                                                                                                                                                                                                                                                                                                                                                                                                                                                                                                                                                                                                                                                                                                                                                                                                                                                                                                                                                                                                                                                                                                                                                                                                                                                                                                                                                                                                                                                                                                                                                                                                                                                                                                                                                                                                                                                                                                                                                                                                                                                                                                                                                                                                                                                                                                                                                                                                                                                                                                                                                                                                                                                                                                                                                                                                                                                                                                                                                                                                                                                                                                                                                                                                                                                                                                                                                                                                                                                                                                                                                                                                                                                                                                                                                                                                                                                                                                                                                                                                                                                                                                                                                                                                                                                                                                                                                                                                                                                                                                                                                                                                                                                                                                                                                                                                                                                                                                                                                                                                                                                                                                                                                                                                                                                                                                                                                                                                                                                                                                                                                           7\n",
       "[deleted]                                                                                                                                                                                                                                                                                                                                                                                                                                                                                                                                                                                                                                                                                                                                                                                                                                                                                                                                                                                                                                                                                                                                                                                                                                                                                                                                                                                                                                                                                                                                                                                                                                                                                                                                                                                                                                                                                                                                                                                                                                                                                                                                                                                                                                                                                                                                                                                                                                                                                                                                                                                                                                                                                                                                                                                                                                                                                                                                                                                                                                                                                                                                                                                                                                                                                                                                                                                                                                                                                                                                                                                                                                                                                                                                                                                                                                                                                                                                                                                                                                                                                                                                                                                                                                                                                                                                                                                                                                                                                                                                                                                                                                                                                                                                                                                                                                                                                                                                                                                                                                                                                                                                                                                                                                                                                                                                                                                                                                                                                                                                                                                                                                                                                                                                                                                                                                                                                                                                                                                                                                                                                                                                                                                                                                                                                                                                                                                                                                                                                                                                     7\n",
       "So this isn't my tale, but I found it really interesting. We've all  been told about or experienced issues with ESD, electromagnetic radiation, or electrical interference but I just learned that cosmic radiation sometimes causes \"bit flip\" in DRAM. This can cause ask kinds of issues in a computer including BSOD. \\n\\nSeeing as how this \"bit flip\" is a soft error (is temporary and can be overwritten), its no surprise that restarting a computer is often the first troubleshooting step. \\n\\nFrom now on, when I fix a computer and have no idea what the issue was, instead of Fn Magic(FM) I'll blame it on cosmic radiation. \\n\\nhttps://youtu.be/AaZ_RSt0KP8 for reference.                                                                                                                                                                                                                                                                                                                                                                                                                                                                                                                                                                                                                                                                                                                                                                                                                                                                                                                                                                                                                                                                                                                                                                                                                                                                                                                                                                                                                                                                                                                                                                                                                                                                                                                                                                                                                                                                                                                                                                                                                                                                                                                                                                                                                                                                                                                                                                                                                                                                                                                                                                                                                                                                                                                                                                                                                                                                                                                                                                                                                                                                                                                                                                                                                                                                                                                                                                                                                                                                                                                                                                                                                                                                                                                                                                                                                                                                                                                                                                                                                                                                                                                                                                                                                                                                                                                                                                                                                                                                                                                                                                                                                                                                                                                                                                                                                                                                                                                                                                                                                                                                                                                                                                                                                                                                                                                                                                                                                                                                                                                                                                                                                                                                                                                                                                                                                                                 2\n",
       "This isn't a story or experience really. 4 months ago I quit working retail and I work in manufacturing now. I work 10 hour shifts nearly every day, overtime is mandatory every week. I'm just starting to feel very tired of the work and sometimes compare it to my old retail jobs. I feel crazy for thinking of going back to retail. I didn't hate all of my past retail jobs, some were better than others. But I make so much more money in manufacturing and no customers to deal with. But I work 1st shift and honestly I kind of hate working 1st shift. I used to work 3rd and I liked it more. There is no 2nd or 3rd shift at my current job. \\n\\nSo has anyone else left retail and later decided to go back to it?                                                                                                                                                                                                                                                                                                                                                                                                                                                                                                                                                                                                                                                                                                                                                                                                                                                                                                                                                                                                                                                                                                                                                                                                                                                                                                                                                                                                                                                                                                                                                                                                                                                                                                                                                                                                                                                                                                                                                                                                                                                                                                                                                                                                                                                                                                                                                                                                                                                                                                                                                                                                                                                                                                                                                                                                                                                                                                                                                                                                                                                                                                                                                                                                                                                                                                                                                                                                                                                                                                                                                                                                                                                                                                                                                                                                                                                                                                                                                                                                                                                                                                                                                                                                                                                                                                                                                                                                                                                                                                                                                                                                                                                                                                                                                                                                                                                                                                                                                                                                                                                                                                                                                                                                                                                                                                                                                                                                                                                                                                                                                                                                                                                                                                                                                                                                           1\n",
       "                                                                                                                                                                                                                                                                                                                                                                                                                                                                                                                                                                                                                                                                                                                                                                                                                                                                                                                                                                                                                                                                                                                                                                                                                                                                                                                                                                                                                                                                                                                                                                                                                                                                                                                                                                                                                                                                                                                                                                                                                                                                                                                                                                                                                                                                                                                                                                                                                                                                                                                                                                                                                                                                                                                                                                                                                                                                                                                                                                                                                                                                                                                                                                                                                                                                                                                                                                                                                                                                                                                                                                                                                                                                                                                                                                                                                                                                                                                                                                                                                                                                                                                                                                                                                                                                                                                                                                                                                                                                                                                                                                                                                                                                                                                                                                                                                                                                                                                                                                                                                                                                                                                                                                                                                                                                                                                                                                                                                                                                                                                                                                                                                                                                                                                                                                                                                                                                                                                                                                                                                                                                                                                                                                                                                                                                                                                                                                                                                                                                                                                                           ... \n",
       "I do tech support for doctor's offices. And I specialize in interfaces. This would, for instance, be sending orders for labs and then receiving back the lab results.\\n\\nAnother tech asks me to join a call because she's having a bit of a hard time understanding what she's seeing. I join the call and the screenshare.\\n\\nOther tech: Thanks for joining, saint\\_of\\_thieves. We're finding that there are over 200,000 files in the \\\\out folder.  \\nMe: Oh! Okay. Well, let's check that out. &lt;I start looking through the files&gt; So, it looks like these files date back as far as 2019.  And just spot checking a few of these, I see that they're intended for a destination called &lt;third party&gt;.   \\nCustomer: We stopped using &lt;third party&gt; three years ago. Why are these files still here?  \\nMe: Well, the most recent date is from today. You've been trying to send these files since 2019 until today. What happens is that our software will write the file to the \\\\out folder and then send it over the socket. If the other side of the interface isn't accepting  the connection for whatever reason, we'll report an error and the file will just stay in \\\\out. If they'd been sent over the socket, we'd put &lt;pulls up the interface settings&gt; our copy of the file in this archive folder you have specified here. I notice that the interface is turned off on your side. When did you turn this off?  \\nCustomer: Oh, we were troubleshooting something earlier today and turned it off then. But we haven't used &lt;third party&gt; for three years. Why are the files here?  \\nMe: Because you've had the interface running all this time. You may have stopped using that company but you never told the software to stop trying to send files. And it's been failing to send for three years. It looks like whoever is supposed to be monitoring the activity and error logs have been ignoring this for years. This would have been logged in the same place where you would correct other errors like files that came in but couldn't find the correct patient. Those errors are normally resolved on a daily basis. And these connection errors would be seen then.  \\nCustomer: So, what do we do with these files?  \\nMe: You can delete them. You haven't wanted to send them for 3 years, so there's no reason to keep them. And now that your side of the interface is turned off, you shouldn't see any more being created.                                                                                                                                                                                                                                                                                                                                                                                                                                                                                                                                                                                                                                                                                                                                                                                                                                                                                                                                                                                                                                                                                                                                                                                                                                                                                                                                                                                                                                                                                                                                                                                                                                                                                                                                                                                                                                                                                                                                                                                                                                                                                                                                                                                                                                                                                                                                                                                                                                                                                                                                                                                                                                                                                                                                                                                                                                                                                                                                                                                                                                                                                                                                                                                                                                                                                                                                                                                                                                                                                                                                                                                                                                                                                                                                                                                                                                                                                                                                                                                                                                             1\n",
       "I actually have a tech repair shop role so I no longer am tech adjacent like I have been in my previous posts. \\n\\n\\*insert level up graphic and sound effect here\\*\\n\\nSo the place I now work at repairs mostly phones but we also do a bit of everything. Enter the customer who is the literal definition of insanity: doing the same thing over and over and expecting different results. I'll call him PicNick or PN for short. \\n\\nSo PN comes in on a busy morning about two weeks ago when I'm working on checking people in. Anyway, he explains he is getting popups/adware on his phone(Which, in my opinion takes skill. Its not a particularly useful or helpful skill but it is a talent and mildly impressive). I am new(I will officially have worked here for a month on this upcoming Monday), so I forget to get the unlock passcode, and this particular type of phone doesn't prompt me for that in the check in process.  Anyway I tell him it will be a couple hours, and we will call back when we have news/a quote. Two things to know about Nick. \\n\\n1. He likes to talk. Because I am female I believe he was more polite and because it was at the beginning of this saga he actually lets me get in the words I need to understand what the problem is and check him in.\\n2. He's an older gentleman who very much gives off the I don't like change vibe. \\n\\nAt this point none of us know what a saga this will be. Unfortunately it turns out we need to factory reset his phone but if we get his passcode we may be able to help transfer his data first. PN refuses to give us the passcode and comes to pick it up we we can not do anything. Usually after some patient explaining most folks understand and either leave to go get a new phone, take it to get the data and bring it back to reset, or just leave empty handed. Not this guy.\\n\\nOver the next day or so PN calls\\n\\nThe company that makes his phone, his carrier, I think the store that rhymes with west guy or something like that(I was off for those two days), and basically shouts and is a belligerent, unfriendly, pushy delight to all three. The big box store actually resets and then restores the phone but whatever caused the adware to appear in the first place is reinstalled so same issue. Nick calls again the next day I am  in and my boss, very patiently, explains that the phone needs to be factory reset, and cannot have all the apps restored for the above mentioned reason. \\n\\nRinse and repeat the above for the next week and a half. With varying reiterations of you need to factory reset it, different coworkers either saying they will stay late or come in on their days off to help him reset it, and others listening to at least half an hour tirades about the issues and what to do. I think a couple of the calls were like two hours of this guy rambling. Basically we are pretty much done with Nick because he will not do what we told him to do, and we are done with him at all three area locations.\\n\\n**BUT WONDER OF ALL WONDERS:** he actually brought it in Thursday evening to one of the other locations to get it factory reset.\\n\\nNormally this is where the story would end; said other local location even blacklisted him after they reset it. But oh no. Between the saga of phone calls in which he continues to ask what to do, gets the same answer, and not do it, he had changed carriers. Which now results in his phone no longer connecting to the network. It sometimes happens that way and there is legit nothing anyone can do. Particularly with the carrier he switched to. I am too new to know why this particular carrier is special but it's something I've been warned about.\\n\\nSo cue this gem of a conversation I overheard today while I was in the back repairing a screen under the watchful eye of the aforementioned boss(Still learning so he answers questions/gives me help and tips as I work on said phone). \\n\\n&gt;Boss: Thank you for calling \"Store Name\", what can I help you with today?  \\n&gt;  \\n&gt;PN: Hi, I'm calling because my phone no longer wants to connect to the network, and your other location must be very busy because I can't get ahold of anyone there. (blacklisting means he can still call and leave messages but it doesn't ring in this case)  \\n&gt;  \\n&gt;Boss: Ah yes, I think I recognize your voice. Unfortunately if the factory reset doesn't fix that issue, like you did yesterday, then there is nothing we can do.  \\n&gt;  \\n&gt;PN: But I like this phone. Its been a good phone up until the adds started popping up. It works well for me and they went away last night, but now it won't connect to the network. Can't you fix it?  \\n&gt;  \\n&gt;Boss: \\*Places on speaker so he can help me with something as he chats to Nick\\* I understand, but as I said before there is nothing we can do. You need to get a new phone through your new carrier.\\n\\nAnd rinse and repeat for about 5-10 minutes in which Nick basically says the exact same thing in different phrasing. Meanwhile, all of us are attempting not to laugh because ye gods he keeps going on and on and we have been dealing with him for two weeks now. Eventually the boss gets DONE and falls completely silent and eventually the guy says okay bye and hangs up. PN would have continued forever if he hadn't done that.  Cue everyone laughing at his ridiculous mannerisms and praising said boss's clever way of hanging up/\"dropping\" the call. AND we still aren't done for:\\n\\n* My boss's manager/manager of the three local stores including our own calls shortly after and instructs my boss to blacklist him at this store. Also to let my boss vent. \\n* PN actually makes an appointment for later on. We obviously decline it.\\n* Those messages he kept leaving at the first store that blacklisted Nick? They are, for all we know, in morse code. I think we got busy and had to stop trying to translate before we could plug it into something to figure out what the knocks meant. I'll edit if they mean anything.\\n\\nSo yeah, this is where the saga ends for now. Will edit if it develops further, but I think he's blacklisted in all three locations so he would have to come in physically to continue to complain and ramble our ears off.\\n\\n**TLDR:** The living breathing definition of insanity will not follow directions and expects different results.       1\n",
       "This is more of a general rant than a story of a specific incident because this happens ALL THE DAMN TIME.\\n\\nI'm a web developer who specializes with a particular CMS and would frequently get client requests to provide them with Excel reports of the data that's in their CMS for various things. Several years ago, after writing a few quick and easy but un-reusable export admin tools, I decided to make a reusable tool that could handle any and all of these export requests so that I would never have to write another custom export tool again. So I did, it took me several months and I've been refining and adding to it for the past 5 years. Thanks to my tool I actually was awarded with the CMS's MVP Technology Award and have been an MVP for the past four years now.\\n\\nI made this tool as simple and user-friendly as possible so that any CMS user should be able to understand how to use it and be able to export data (that they have Read access to). Absolutely no technical skills required beyond what any CMS user already has. The tool itself has an explanation on every single field, but I also wrote out complete documentation on my personal blog for how to use it, which is linked to from the Github repo.\\n\\nSo then all my clients started using it and never asked me for data exports again!\\n\\nHaha, just kidding. This is how it usually goes:\\n\\nClient: We need to know all of the pages that have been created in the CMS under this folder. Can you provide us with this? (note: this is the most basic possible export)\\n\\nMe: Hi client, you can use the export tool that I've told you about 12 times over the past 3 years to pull that information. Here's the link to the documentation (though you probably would realize you don't even need it if you just tried opening the export tool and looking at it)\\n\\nClient: Thanks. Can we schedule a meeting so that you can explain to us how to use the tool? In the meantime, can you please generate the report for us?\\n\\nMe: (to my project manager) Hi PM, you can use the export tool to generate that report they're asking for. \\n\\nPM: Sure. I've never used it before though. Can you show me how it works?\\n\\n......\\n\\nThen eventually, several months or years later, the PM finally tries the tool (not the client though, they will never ever use it because it's easier for them to just ask us for all the data they need and wait up to 5 days to get it rather than spend 2 minutes getting it themselves). The PM messages me on slack to rave about how great the tool is. However, this only fills me with anger rather than joy because I KNOW IT'S GREAT, THAT'S WHY I TOLD YOU TO USE IT FIVE YEARS AGO.                                                                                                                                                                                                                                                                                                                                                                                                                                                                                                                                                                                                                                                                                                                                                                                                                                                                                                                                                                                                                                                                                                                                                                                                                                                                                                                                                                                                                                                                                                                                                                                                                                                                                                                                                                                                                                                                                                                                                                                                                                                                                                                                                                                                                                                                                                                                                                                                                                                                                                                                                                                                                                                                                                                                                                                                                                                                                                                                                                                                                                                                                                                                                                                                                                                                                                                                                                                                                                                                                                                                                                                                                                                                                                                                                                                        1\n",
       "(Obligatory mobile) \\nHere’s another top stupidest questions I’ve heard\\n\\nI used to work in a shoe store and we would get a lot of foot traffic from people just coming through the strip mall. We sold lots of high dollar shoes, Jordan’s, other Nike’s, Yeezys on occasion, sometimes upwards of $250 so many people would try to grab something and run out, this is why we always had someone posted at the front door. We didn’t actually have someone hired as security, so me being the 6’4 large lanky man I am, I was usually the one up there. \\n\\nI was essentially in charge of both loss prevention, and greeting people when they came in and the “thanks, come again” when they leave. Mind you 3 out of 4 walls in this store are covered in shoes for display. Cue old white guy who looks like he’s worn loafers his whole life to peek his head in the door to say “do you guys sell shoes here?” Our customer base is a jovial bunch so I expected him to laugh and say “nah I’m just joking with ya” but nope, he was serious. I look around and say “yes we do” to which he replies “oh ok” and walks off. Didn’t even come into the store.\\n\\nI worked at that store for about a year and a half and have many many more amazing stories, but in terms of stupid questions? That ones up there.                                                                                                                                                                                                                                                                                                                                                                                                                                                                                                                                                                                                                                                                                                                                                                                                                                                                                                                                                                                                                                                                                                                                                                                                                                                                                                                                                                                                                                                                                                                                                                                                                                                                                                                                                                                                                                                                                                                                                                                                                                                                                                                                                                                                                                                                                                                                                                                                                                                                                                                                                                                                                                                                                                                                                                                                                                                                                                                                                                                                                                                                                                                                                                                                                                                                                                                                                                                                                                                                                                                                                                                                                                                                                                                                                                                                                                                                                                                                                                                                                                                                                                                                                                                                                                                                                                                                                                                                                                                                                                                                                                                                                                                                                                                                                                                                                                                                                                                                                                                                                                                                                                                                                                                                                      1\n",
       "Back in 2009, our company purchased a horribly mismanaged company mostly for their technical ability and their customers.  I was asked to come to the President’s office and meet one of the “crown jewels” of this acquisition was a guy we will call “Fred.”\\n\\nFor background, our IT Department falls under the accounting department and headed by the CFO/Treasurer.  I do not work for or report to the President in any way, but professional courtesy he usually gets what he wants (for the most part.)\\n\\nFred seemed nice enough.  We exchanged pleasantries and the president mentioned that he would be needing a new, beefy, top-of-the-line PCs for this new venture.  I told him “No problem!  Just let me know the specs and I’ll get it done.” and I went on my merry way.\\n\\nLater that day the president asked me to stop back by his office for “a little chat.”\\n\\nTowards the end of the day, I swung by his office. \\n\\nThe president wanted to let me know that Fred and his teams were “really smart” guys and that they would “probably be the IT team” for the company “someday in the future.”  It would be best to really do a good job on this as this guy would likely be my boss at some point in the future.\\n\\nSo I was already kind of bristling at this because, as it stood, I was in charge of IT (even if it was only me and one other guy) and I didn’t like the idea of a demotion.\\n\\nThen he handed me a piece of paper with the specs that Fred wanted and needed “to be able to work properly.”  \\n\\nIt read (going from memory) as follows:\\n\\nHP or Dell Laptop\\nMust have Intel i7-720QM\\nWindows 7 32 Bit\\n32 GB of RAM\\n500 GB HD\\nATI or NVidia graphic card\\n\\nI kind of snickered.  I said “can we call him?”  \\n\\nWe got Fred on the phone.\\n\\n“Fred, did you mean to specify Windows 7 64 Bit?”\\n\\n“No,” says Fred “It has to be 32 bit.  64 Bit won’t work with the applications I use.”\\n\\n“Okay.  So then we’ll drop the memory down to 4 GB.”\\n\\n“No!” says Fred “I need 32 GB or I won’t be able to work efficiently.”\\n\\nSo I tell the “really smart” guy that 32 GB won’t work in a 32 bit system.  \\n\\nHe insists it will, he knows what he needs and what he is doing, and just order it the way he specified.  He can configure it to work just fine.\\n\\nI tell him that I would love to see this (as it basically breaks math.) \\n\\nLong story short, I order it and, Lo and Behold, a 32-bit system can only use 4 GB of memory.  \\n\\nHe tells the president that I must have done something wrong with the set up or something on the network was preventing it from using all 32 GB.\\n\\n*Facepalm*\\n\\nLater in the week my CFO/Boss wants to have a meeting with me to discuss why we cannot configure it the way he wants and what we can do to solve this issue.  So I go to the meeting and my boss asks me “what is preventing you from configuring this the way he wants.”\\n\\n“Math.”\\n\\n“Math?”\\n\\n“Yes, Math.  You see what 32 bit and 64 bit means is how many address registers a computer can access in memory.  32 bit means it can access 2^32 address registers or a little over 4 billion ones and zeros, or 4 gigabites.  That’s it.  It’s not up for debate.  I can stick a hundred sicks of memory in there and it will still only use 4 GB.  It cannot be changed because you cannot change the math.”\\n\\n“Did you explain it to him?”\\n\\n“No, I did not.  Because he said he wanted it that way and he could configure it to work.”\\n\\n“But,” said the CFO, “You said it couldn’t work.  What can he do to make it work?”\\n\\n“Nothing.  Again…math.”\\n\\n\\nIn the end Fred said he would “Just deal with it.”  He lasted about eight months and was asked to leave after he spent $7500 at a Vegas strip club with “clients” one night.\\n\\nApparently, math was never a strong suit of his.                                                                                                                                                                                                                                                                                                                                                                                                                                                                                                                                                                                                                                                                                                                                                                                                                                                                                                                                                                                                                                                                                                                                                                                                                                                                                                                                                                                                                                                                                                                                                                                                                                                                                                                                                                                                                                                                                                                                                                                                                                                                                                                                                                                                                                                                                                                                                                                                                                                                                                                                                                                                                                                          1\n",
       "Name: selftext, Length: 1414, dtype: int64"
      ]
     },
     "execution_count": 54,
     "metadata": {},
     "output_type": "execute_result"
    }
   ],
   "source": [
    "df['selftext'].value_counts() # 1503 of selftext is removed, may add them as a stopword"
   ]
  },
  {
   "cell_type": "markdown",
   "id": "dcfcb167",
   "metadata": {},
   "source": [
    "### Going to change [removed] to just removed_asdf_fix in our DF"
   ]
  },
  {
   "cell_type": "code",
   "execution_count": 55,
   "id": "582136b4",
   "metadata": {},
   "outputs": [],
   "source": [
    "def selftext_fix(self_cell):\n",
    "    if self_cell == '[removed]':\n",
    "        return 'removed_asdf_fix' # setting as this string since I don't want an accidental replace on something else\n",
    "    else:\n",
    "        return self_cell"
   ]
  },
  {
   "cell_type": "code",
   "execution_count": 56,
   "id": "ce2ce80d",
   "metadata": {},
   "outputs": [],
   "source": [
    "df['selftext'] = df['selftext'].map(selftext_fix)"
   ]
  },
  {
   "cell_type": "code",
   "execution_count": 57,
   "id": "5f09f753",
   "metadata": {},
   "outputs": [
    {
     "data": {
      "text/html": [
       "<div>\n",
       "<style scoped>\n",
       "    .dataframe tbody tr th:only-of-type {\n",
       "        vertical-align: middle;\n",
       "    }\n",
       "\n",
       "    .dataframe tbody tr th {\n",
       "        vertical-align: top;\n",
       "    }\n",
       "\n",
       "    .dataframe thead th {\n",
       "        text-align: right;\n",
       "    }\n",
       "</style>\n",
       "<table border=\"1\" class=\"dataframe\">\n",
       "  <thead>\n",
       "    <tr style=\"text-align: right;\">\n",
       "      <th></th>\n",
       "      <th>title</th>\n",
       "      <th>selftext</th>\n",
       "      <th>subreddit</th>\n",
       "      <th>created_utc</th>\n",
       "    </tr>\n",
       "  </thead>\n",
       "  <tbody>\n",
       "    <tr>\n",
       "      <th>0</th>\n",
       "      <td>Do the crazy customers realize that they becom...</td>\n",
       "      <td>removed_asdf_fix</td>\n",
       "      <td>0</td>\n",
       "      <td>1636729943</td>\n",
       "    </tr>\n",
       "    <tr>\n",
       "      <th>1</th>\n",
       "      <td>Store music volume controls</td>\n",
       "      <td>My most recent job, and hopefully last, in ret...</td>\n",
       "      <td>0</td>\n",
       "      <td>1636729678</td>\n",
       "    </tr>\n",
       "    <tr>\n",
       "      <th>2</th>\n",
       "      <td>Ways of Rejection</td>\n",
       "      <td>I'll just hop right into it as there's no poin...</td>\n",
       "      <td>0</td>\n",
       "      <td>1636725427</td>\n",
       "    </tr>\n",
       "    <tr>\n",
       "      <th>3</th>\n",
       "      <td>JUST TELL US WHAT IT'S USED FOR!</td>\n",
       "      <td>removed_asdf_fix</td>\n",
       "      <td>0</td>\n",
       "      <td>1636694714</td>\n",
       "    </tr>\n",
       "    <tr>\n",
       "      <th>4</th>\n",
       "      <td>You've got to go collect stray shopping carts ...</td>\n",
       "      <td>removed_asdf_fix</td>\n",
       "      <td>0</td>\n",
       "      <td>1636679308</td>\n",
       "    </tr>\n",
       "  </tbody>\n",
       "</table>\n",
       "</div>"
      ],
      "text/plain": [
       "                                               title  \\\n",
       "0  Do the crazy customers realize that they becom...   \n",
       "1                        Store music volume controls   \n",
       "2                                  Ways of Rejection   \n",
       "3                   JUST TELL US WHAT IT'S USED FOR!   \n",
       "4  You've got to go collect stray shopping carts ...   \n",
       "\n",
       "                                            selftext  subreddit  created_utc  \n",
       "0                                   removed_asdf_fix          0   1636729943  \n",
       "1  My most recent job, and hopefully last, in ret...          0   1636729678  \n",
       "2  I'll just hop right into it as there's no poin...          0   1636725427  \n",
       "3                                   removed_asdf_fix          0   1636694714  \n",
       "4                                   removed_asdf_fix          0   1636679308  "
      ]
     },
     "execution_count": 57,
     "metadata": {},
     "output_type": "execute_result"
    }
   ],
   "source": [
    "df.head()"
   ]
  },
  {
   "cell_type": "code",
   "execution_count": 58,
   "id": "da5ac156",
   "metadata": {},
   "outputs": [
    {
     "data": {
      "text/html": [
       "<div>\n",
       "<style scoped>\n",
       "    .dataframe tbody tr th:only-of-type {\n",
       "        vertical-align: middle;\n",
       "    }\n",
       "\n",
       "    .dataframe tbody tr th {\n",
       "        vertical-align: top;\n",
       "    }\n",
       "\n",
       "    .dataframe thead th {\n",
       "        text-align: right;\n",
       "    }\n",
       "</style>\n",
       "<table border=\"1\" class=\"dataframe\">\n",
       "  <thead>\n",
       "    <tr style=\"text-align: right;\">\n",
       "      <th></th>\n",
       "      <th>title</th>\n",
       "      <th>selftext</th>\n",
       "      <th>created_utc</th>\n",
       "    </tr>\n",
       "    <tr>\n",
       "      <th>subreddit</th>\n",
       "      <th></th>\n",
       "      <th></th>\n",
       "      <th></th>\n",
       "    </tr>\n",
       "  </thead>\n",
       "  <tbody>\n",
       "    <tr>\n",
       "      <th>0</th>\n",
       "      <td>1428</td>\n",
       "      <td>550</td>\n",
       "      <td>1459</td>\n",
       "    </tr>\n",
       "    <tr>\n",
       "      <th>1</th>\n",
       "      <td>1453</td>\n",
       "      <td>866</td>\n",
       "      <td>1469</td>\n",
       "    </tr>\n",
       "  </tbody>\n",
       "</table>\n",
       "</div>"
      ],
      "text/plain": [
       "           title  selftext  created_utc\n",
       "subreddit                              \n",
       "0           1428       550         1459\n",
       "1           1453       866         1469"
      ]
     },
     "execution_count": 58,
     "metadata": {},
     "output_type": "execute_result"
    }
   ],
   "source": [
    "df.groupby('subreddit').nunique()"
   ]
  },
  {
   "cell_type": "code",
   "execution_count": 59,
   "id": "e7790985",
   "metadata": {},
   "outputs": [],
   "source": [
    "df.to_csv('../Data/subredditdatacleaned.csv')"
   ]
  },
  {
   "cell_type": "code",
   "execution_count": null,
   "id": "26d2fb6a",
   "metadata": {},
   "outputs": [],
   "source": []
  }
 ],
 "metadata": {
  "kernelspec": {
   "display_name": "Python 3",
   "language": "python",
   "name": "python3"
  },
  "language_info": {
   "codemirror_mode": {
    "name": "ipython",
    "version": 3
   },
   "file_extension": ".py",
   "mimetype": "text/x-python",
   "name": "python",
   "nbconvert_exporter": "python",
   "pygments_lexer": "ipython3",
   "version": "3.8.8"
  }
 },
 "nbformat": 4,
 "nbformat_minor": 5
}
