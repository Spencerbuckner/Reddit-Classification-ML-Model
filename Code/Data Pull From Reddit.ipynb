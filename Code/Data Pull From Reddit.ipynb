{
 "cells": [
  {
   "cell_type": "markdown",
   "id": "815e2f0b",
   "metadata": {},
   "source": [
    "# We will be pulling data from Reddit to set up our Binary Classification. The subreddits that will be used are r/TalesFromRetail and r/TalesFromTechSupport"
   ]
  },
  {
   "cell_type": "markdown",
   "id": "1abd14f0",
   "metadata": {},
   "source": [
    "## The reason these two subreddits were chosen\n",
    "- Largely Text Based\n",
    "- Large Communities\n",
    "- Similar Conecpt (talking about their jobs)"
   ]
  },
  {
   "cell_type": "markdown",
   "id": "1fba5e1b",
   "metadata": {},
   "source": [
    "# Our goal will be to create a Binary Classification that will take in new post titles, and classify them into the \"correct\" subreddits."
   ]
  },
  {
   "cell_type": "code",
   "execution_count": null,
   "id": "bff0ed25",
   "metadata": {},
   "outputs": [],
   "source": []
  },
  {
   "cell_type": "markdown",
   "id": "ff0f3255",
   "metadata": {},
   "source": [
    "# First, we must gather >1000 post info from each subreddit"
   ]
  },
  {
   "cell_type": "code",
   "execution_count": 17,
   "id": "24056bf8",
   "metadata": {},
   "outputs": [],
   "source": [
    "import pandas as pd\n",
    "import numpy as np\n",
    "import requests\n",
    "import time"
   ]
  },
  {
   "cell_type": "code",
   "execution_count": 19,
   "id": "95e66589",
   "metadata": {},
   "outputs": [
    {
     "name": "stdout",
     "output_type": "stream",
     "text": [
      "TalesFromRetail 0\n",
      "TalesFromRetail 1\n",
      "TalesFromRetail 2\n",
      "TalesFromRetail 3\n",
      "TalesFromRetail 4\n",
      "TalesFromRetail 5\n",
      "TalesFromRetail 6\n",
      "TalesFromRetail 7\n",
      "TalesFromRetail 8\n",
      "TalesFromRetail 9\n",
      "TalesFromRetail 10\n",
      "TalesFromRetail 11\n",
      "TalesFromRetail 12\n",
      "TalesFromRetail 13\n",
      "TalesFromRetail 14\n",
      "talesfromtechsupport 0\n",
      "talesfromtechsupport 1\n",
      "talesfromtechsupport 2\n",
      "talesfromtechsupport 3\n",
      "talesfromtechsupport 4\n",
      "talesfromtechsupport 5\n",
      "talesfromtechsupport 6\n",
      "talesfromtechsupport 7\n",
      "talesfromtechsupport 8\n",
      "talesfromtechsupport 9\n",
      "talesfromtechsupport 10\n",
      "talesfromtechsupport 11\n",
      "talesfromtechsupport 12\n",
      "talesfromtechsupport 13\n",
      "talesfromtechsupport 14\n"
     ]
    }
   ],
   "source": [
    "subreddits = [\"TalesFromRetail\", \"talesfromtechsupport\"] #subreddits\n",
    "df = []\n",
    "for i in subreddits:\n",
    "    for x in range(15):\n",
    "            params = {\n",
    "                    'subreddit':i,\n",
    "                    'size': 100   \n",
    "                        }\n",
    "            if x != 0: \n",
    "                params['before'] = last_time\n",
    "            \n",
    "            url = 'https://api.pushshift.io/reddit/search/submission'\n",
    "            res = requests.get(url, params=params)\n",
    "            res.json()\n",
    "            posts = pd.DataFrame(res.json()['data'])\n",
    "            posts = posts[['title', 'selftext', 'subreddit', 'created_utc']]\n",
    "            last_time = posts['created_utc'].values[-1] # setting last time for the last post we scraped\n",
    "        \n",
    "            df.append(posts)\n",
    "            print(i, x) # tracking the number of iterations\n",
    "            time.sleep(3) #3 seconds in between loops\n",
    "                  \n",
    "df_finished = pd.concat(df, ignore_index=True)"
   ]
  },
  {
   "cell_type": "code",
   "execution_count": 20,
   "id": "d7696839",
   "metadata": {},
   "outputs": [
    {
     "data": {
      "text/html": [
       "<div>\n",
       "<style scoped>\n",
       "    .dataframe tbody tr th:only-of-type {\n",
       "        vertical-align: middle;\n",
       "    }\n",
       "\n",
       "    .dataframe tbody tr th {\n",
       "        vertical-align: top;\n",
       "    }\n",
       "\n",
       "    .dataframe thead th {\n",
       "        text-align: right;\n",
       "    }\n",
       "</style>\n",
       "<table border=\"1\" class=\"dataframe\">\n",
       "  <thead>\n",
       "    <tr style=\"text-align: right;\">\n",
       "      <th></th>\n",
       "      <th>title</th>\n",
       "      <th>selftext</th>\n",
       "      <th>subreddit</th>\n",
       "      <th>created_utc</th>\n",
       "    </tr>\n",
       "  </thead>\n",
       "  <tbody>\n",
       "    <tr>\n",
       "      <th>0</th>\n",
       "      <td>Do the crazy customers realize that they becom...</td>\n",
       "      <td>[removed]</td>\n",
       "      <td>TalesFromRetail</td>\n",
       "      <td>1636729943</td>\n",
       "    </tr>\n",
       "    <tr>\n",
       "      <th>1</th>\n",
       "      <td>Store music volume controls</td>\n",
       "      <td>My most recent job, and hopefully last, in ret...</td>\n",
       "      <td>TalesFromRetail</td>\n",
       "      <td>1636729678</td>\n",
       "    </tr>\n",
       "    <tr>\n",
       "      <th>2</th>\n",
       "      <td>Ways of Rejection</td>\n",
       "      <td>I'll just hop right into it as there's no poin...</td>\n",
       "      <td>TalesFromRetail</td>\n",
       "      <td>1636725427</td>\n",
       "    </tr>\n",
       "    <tr>\n",
       "      <th>3</th>\n",
       "      <td>JUST TELL US WHAT IT'S USED FOR!</td>\n",
       "      <td>[removed]</td>\n",
       "      <td>TalesFromRetail</td>\n",
       "      <td>1636694714</td>\n",
       "    </tr>\n",
       "    <tr>\n",
       "      <th>4</th>\n",
       "      <td>You've got to go collect stray shopping carts ...</td>\n",
       "      <td>[removed]</td>\n",
       "      <td>TalesFromRetail</td>\n",
       "      <td>1636679308</td>\n",
       "    </tr>\n",
       "    <tr>\n",
       "      <th>...</th>\n",
       "      <td>...</td>\n",
       "      <td>...</td>\n",
       "      <td>...</td>\n",
       "      <td>...</td>\n",
       "    </tr>\n",
       "    <tr>\n",
       "      <th>2989</th>\n",
       "      <td>Call the exterminator!</td>\n",
       "      <td>This is my favorite story to tell. Other perso...</td>\n",
       "      <td>talesfromtechsupport</td>\n",
       "      <td>1620921902</td>\n",
       "    </tr>\n",
       "    <tr>\n",
       "      <th>2990</th>\n",
       "      <td>Port security isnt physical?</td>\n",
       "      <td>A few weeks in starting my first job as a netw...</td>\n",
       "      <td>talesfromtechsupport</td>\n",
       "      <td>1620920941</td>\n",
       "    </tr>\n",
       "    <tr>\n",
       "      <th>2991</th>\n",
       "      <td>A short struggle involving screenshots</td>\n",
       "      <td>Background: I work for a small-ish CRM company...</td>\n",
       "      <td>talesfromtechsupport</td>\n",
       "      <td>1620912676</td>\n",
       "    </tr>\n",
       "    <tr>\n",
       "      <th>2992</th>\n",
       "      <td>Wassup fellas?</td>\n",
       "      <td>I work as tech support for a company that prov...</td>\n",
       "      <td>talesfromtechsupport</td>\n",
       "      <td>1620907273</td>\n",
       "    </tr>\n",
       "    <tr>\n",
       "      <th>2993</th>\n",
       "      <td>My keyboard won't read my ID card</td>\n",
       "      <td>This happened at an IT support job I had a cou...</td>\n",
       "      <td>talesfromtechsupport</td>\n",
       "      <td>1620904053</td>\n",
       "    </tr>\n",
       "  </tbody>\n",
       "</table>\n",
       "<p>2994 rows × 4 columns</p>\n",
       "</div>"
      ],
      "text/plain": [
       "                                                  title  \\\n",
       "0     Do the crazy customers realize that they becom...   \n",
       "1                           Store music volume controls   \n",
       "2                                     Ways of Rejection   \n",
       "3                      JUST TELL US WHAT IT'S USED FOR!   \n",
       "4     You've got to go collect stray shopping carts ...   \n",
       "...                                                 ...   \n",
       "2989                             Call the exterminator!   \n",
       "2990                       Port security isnt physical?   \n",
       "2991             A short struggle involving screenshots   \n",
       "2992                                     Wassup fellas?   \n",
       "2993                  My keyboard won't read my ID card   \n",
       "\n",
       "                                               selftext             subreddit  \\\n",
       "0                                             [removed]       TalesFromRetail   \n",
       "1     My most recent job, and hopefully last, in ret...       TalesFromRetail   \n",
       "2     I'll just hop right into it as there's no poin...       TalesFromRetail   \n",
       "3                                             [removed]       TalesFromRetail   \n",
       "4                                             [removed]       TalesFromRetail   \n",
       "...                                                 ...                   ...   \n",
       "2989  This is my favorite story to tell. Other perso...  talesfromtechsupport   \n",
       "2990  A few weeks in starting my first job as a netw...  talesfromtechsupport   \n",
       "2991  Background: I work for a small-ish CRM company...  talesfromtechsupport   \n",
       "2992  I work as tech support for a company that prov...  talesfromtechsupport   \n",
       "2993  This happened at an IT support job I had a cou...  talesfromtechsupport   \n",
       "\n",
       "      created_utc  \n",
       "0      1636729943  \n",
       "1      1636729678  \n",
       "2      1636725427  \n",
       "3      1636694714  \n",
       "4      1636679308  \n",
       "...           ...  \n",
       "2989   1620921902  \n",
       "2990   1620920941  \n",
       "2991   1620912676  \n",
       "2992   1620907273  \n",
       "2993   1620904053  \n",
       "\n",
       "[2994 rows x 4 columns]"
      ]
     },
     "execution_count": 20,
     "metadata": {},
     "output_type": "execute_result"
    }
   ],
   "source": [
    "df_finished"
   ]
  },
  {
   "cell_type": "code",
   "execution_count": 23,
   "id": "0183e8d8",
   "metadata": {},
   "outputs": [
    {
     "data": {
      "text/plain": [
       "TalesFromRetail         1500\n",
       "talesfromtechsupport    1494\n",
       "Name: subreddit, dtype: int64"
      ]
     },
     "execution_count": 23,
     "metadata": {},
     "output_type": "execute_result"
    }
   ],
   "source": [
    "df_finished['subreddit'].value_counts()"
   ]
  },
  {
   "cell_type": "code",
   "execution_count": 21,
   "id": "5b59f27c",
   "metadata": {},
   "outputs": [
    {
     "data": {
      "text/plain": [
       "TalesFromRetail         0.501002\n",
       "talesfromtechsupport    0.498998\n",
       "Name: subreddit, dtype: float64"
      ]
     },
     "execution_count": 21,
     "metadata": {},
     "output_type": "execute_result"
    }
   ],
   "source": [
    "df_finished['subreddit'].value_counts(normalize=True)"
   ]
  },
  {
   "cell_type": "code",
   "execution_count": 24,
   "id": "4f99a502",
   "metadata": {},
   "outputs": [
    {
     "data": {
      "text/html": [
       "<div>\n",
       "<style scoped>\n",
       "    .dataframe tbody tr th:only-of-type {\n",
       "        vertical-align: middle;\n",
       "    }\n",
       "\n",
       "    .dataframe tbody tr th {\n",
       "        vertical-align: top;\n",
       "    }\n",
       "\n",
       "    .dataframe thead th {\n",
       "        text-align: right;\n",
       "    }\n",
       "</style>\n",
       "<table border=\"1\" class=\"dataframe\">\n",
       "  <thead>\n",
       "    <tr style=\"text-align: right;\">\n",
       "      <th></th>\n",
       "      <th>title</th>\n",
       "      <th>selftext</th>\n",
       "      <th>created_utc</th>\n",
       "    </tr>\n",
       "    <tr>\n",
       "      <th>subreddit</th>\n",
       "      <th></th>\n",
       "      <th></th>\n",
       "      <th></th>\n",
       "    </tr>\n",
       "  </thead>\n",
       "  <tbody>\n",
       "    <tr>\n",
       "      <th>TalesFromRetail</th>\n",
       "      <td>1467</td>\n",
       "      <td>551</td>\n",
       "      <td>1500</td>\n",
       "    </tr>\n",
       "    <tr>\n",
       "      <th>talesfromtechsupport</th>\n",
       "      <td>1476</td>\n",
       "      <td>867</td>\n",
       "      <td>1493</td>\n",
       "    </tr>\n",
       "  </tbody>\n",
       "</table>\n",
       "</div>"
      ],
      "text/plain": [
       "                      title  selftext  created_utc\n",
       "subreddit                                         \n",
       "TalesFromRetail        1467       551         1500\n",
       "talesfromtechsupport   1476       867         1493"
      ]
     },
     "execution_count": 24,
     "metadata": {},
     "output_type": "execute_result"
    }
   ],
   "source": [
    "df_finished.groupby('subreddit').nunique()"
   ]
  },
  {
   "cell_type": "code",
   "execution_count": 22,
   "id": "dd45574b",
   "metadata": {},
   "outputs": [],
   "source": [
    "df_finished.to_csv('../Data/subredditdata.csv', index=False)"
   ]
  },
  {
   "cell_type": "markdown",
   "id": "5168f5f5",
   "metadata": {},
   "source": [
    "# ~1500 rows of data pulled for each subreddit and put into a csv"
   ]
  },
  {
   "cell_type": "code",
   "execution_count": null,
   "id": "4d176d2a",
   "metadata": {},
   "outputs": [],
   "source": []
  },
  {
   "cell_type": "code",
   "execution_count": null,
   "id": "dfa81c23",
   "metadata": {},
   "outputs": [],
   "source": []
  },
  {
   "cell_type": "markdown",
   "id": "4e46f737",
   "metadata": {},
   "source": [
    "# Test of other subreddits for troubleshooting"
   ]
  },
  {
   "cell_type": "code",
   "execution_count": 11,
   "id": "353757ce",
   "metadata": {},
   "outputs": [
    {
     "name": "stdout",
     "output_type": "stream",
     "text": [
      "Conservative 0\n",
      "Conservative 1\n",
      "Conservative 2\n",
      "Conservative 3\n",
      "Conservative 4\n",
      "Conservative 5\n",
      "Conservative 6\n",
      "Conservative 7\n",
      "Conservative 8\n",
      "Conservative 9\n",
      "Conservative 10\n",
      "Conservative 11\n",
      "Conservative 12\n",
      "Conservative 13\n",
      "Conservative 14\n",
      "Liberal 0\n",
      "Liberal 1\n",
      "Liberal 2\n",
      "Liberal 3\n",
      "Liberal 4\n",
      "Liberal 5\n",
      "Liberal 6\n",
      "Liberal 7\n",
      "Liberal 8\n",
      "Liberal 9\n",
      "Liberal 10\n",
      "Liberal 11\n",
      "Liberal 12\n",
      "Liberal 13\n",
      "Liberal 14\n"
     ]
    }
   ],
   "source": [
    "subreddits = [\"Conservative\", \"Liberal\"] #subreddits\n",
    "df = []\n",
    "for i in subreddits:\n",
    "    for x in range(15):\n",
    "            params = {\n",
    "                    'subreddit':i,\n",
    "                    'size': 100   \n",
    "                        }\n",
    "            if x != 0: \n",
    "                params['before'] = last_time\n",
    "            \n",
    "            url = 'https://api.pushshift.io/reddit/search/submission'\n",
    "            res = requests.get(url, params=params)\n",
    "            res.json()\n",
    "            posts = pd.DataFrame(res.json()['data'])\n",
    "            posts = posts[['title', 'selftext', 'subreddit', 'created_utc']]\n",
    "            last_time = posts['created_utc'].values[-1] # setting last time for the last post we scraped\n",
    "        \n",
    "            df.append(posts)\n",
    "            print(i, x) # tracking the number of iterations\n",
    "            time.sleep(3) #3 seconds in between loops\n",
    "                  \n",
    "df_finished_2 = pd.concat(df, ignore_index=True)"
   ]
  },
  {
   "cell_type": "code",
   "execution_count": 16,
   "id": "caaf6c58",
   "metadata": {},
   "outputs": [],
   "source": [
    "df_finished_2.to_csv('../Data/conservlibsubredditdata.csv', index=False)"
   ]
  },
  {
   "cell_type": "code",
   "execution_count": 13,
   "id": "54134a12",
   "metadata": {},
   "outputs": [
    {
     "data": {
      "text/plain": [
       "title          2909\n",
       "selftext        119\n",
       "subreddit         2\n",
       "created_utc    2994\n",
       "dtype: int64"
      ]
     },
     "execution_count": 13,
     "metadata": {},
     "output_type": "execute_result"
    }
   ],
   "source": [
    "df_finished_2.nunique()"
   ]
  },
  {
   "cell_type": "code",
   "execution_count": 14,
   "id": "d0c5fe17",
   "metadata": {},
   "outputs": [
    {
     "data": {
      "text/plain": [
       "(3000, 4)"
      ]
     },
     "execution_count": 14,
     "metadata": {},
     "output_type": "execute_result"
    }
   ],
   "source": [
    "df_finished_2.shape"
   ]
  },
  {
   "cell_type": "code",
   "execution_count": 15,
   "id": "ff4619b0",
   "metadata": {},
   "outputs": [
    {
     "data": {
      "text/html": [
       "<div>\n",
       "<style scoped>\n",
       "    .dataframe tbody tr th:only-of-type {\n",
       "        vertical-align: middle;\n",
       "    }\n",
       "\n",
       "    .dataframe tbody tr th {\n",
       "        vertical-align: top;\n",
       "    }\n",
       "\n",
       "    .dataframe thead th {\n",
       "        text-align: right;\n",
       "    }\n",
       "</style>\n",
       "<table border=\"1\" class=\"dataframe\">\n",
       "  <thead>\n",
       "    <tr style=\"text-align: right;\">\n",
       "      <th></th>\n",
       "      <th>title</th>\n",
       "      <th>selftext</th>\n",
       "      <th>created_utc</th>\n",
       "    </tr>\n",
       "    <tr>\n",
       "      <th>subreddit</th>\n",
       "      <th></th>\n",
       "      <th></th>\n",
       "      <th></th>\n",
       "    </tr>\n",
       "  </thead>\n",
       "  <tbody>\n",
       "    <tr>\n",
       "      <th>Conservative</th>\n",
       "      <td>1448</td>\n",
       "      <td>10</td>\n",
       "      <td>1494</td>\n",
       "    </tr>\n",
       "    <tr>\n",
       "      <th>Liberal</th>\n",
       "      <td>1464</td>\n",
       "      <td>112</td>\n",
       "      <td>1500</td>\n",
       "    </tr>\n",
       "  </tbody>\n",
       "</table>\n",
       "</div>"
      ],
      "text/plain": [
       "              title  selftext  created_utc\n",
       "subreddit                                 \n",
       "Conservative   1448        10         1494\n",
       "Liberal        1464       112         1500"
      ]
     },
     "execution_count": 15,
     "metadata": {},
     "output_type": "execute_result"
    }
   ],
   "source": [
    "df_finished_2.groupby('subreddit').nunique()"
   ]
  },
  {
   "cell_type": "code",
   "execution_count": null,
   "id": "3e1b85ea",
   "metadata": {},
   "outputs": [],
   "source": []
  }
 ],
 "metadata": {
  "kernelspec": {
   "display_name": "Python 3",
   "language": "python",
   "name": "python3"
  },
  "language_info": {
   "codemirror_mode": {
    "name": "ipython",
    "version": 3
   },
   "file_extension": ".py",
   "mimetype": "text/x-python",
   "name": "python",
   "nbconvert_exporter": "python",
   "pygments_lexer": "ipython3",
   "version": "3.8.8"
  }
 },
 "nbformat": 4,
 "nbformat_minor": 5
}
