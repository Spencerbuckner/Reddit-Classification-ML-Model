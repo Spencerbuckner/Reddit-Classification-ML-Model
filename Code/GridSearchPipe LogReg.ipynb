{
 "cells": [
  {
   "cell_type": "code",
   "execution_count": 179,
   "id": "9696e95f",
   "metadata": {},
   "outputs": [],
   "source": [
    "import pandas as pd\n",
    "import matplotlib.pyplot as plt\n",
    "from sklearn.linear_model import LogisticRegression\n",
    "from sklearn.feature_extraction.text import CountVectorizer, TfidfVectorizer\n",
    "from sklearn.pipeline import Pipeline\n",
    "from sklearn.model_selection import train_test_split, GridSearchCV\n",
    "from sklearn.metrics import plot_confusion_matrix"
   ]
  },
  {
   "cell_type": "code",
   "execution_count": 46,
   "id": "bf126834",
   "metadata": {},
   "outputs": [],
   "source": [
    "df = pd.read_csv('../Data/subredditdatacleaned.csv')"
   ]
  },
  {
   "cell_type": "code",
   "execution_count": 47,
   "id": "e9cdd289",
   "metadata": {},
   "outputs": [
    {
     "data": {
      "text/html": [
       "<div>\n",
       "<style scoped>\n",
       "    .dataframe tbody tr th:only-of-type {\n",
       "        vertical-align: middle;\n",
       "    }\n",
       "\n",
       "    .dataframe tbody tr th {\n",
       "        vertical-align: top;\n",
       "    }\n",
       "\n",
       "    .dataframe thead th {\n",
       "        text-align: right;\n",
       "    }\n",
       "</style>\n",
       "<table border=\"1\" class=\"dataframe\">\n",
       "  <thead>\n",
       "    <tr style=\"text-align: right;\">\n",
       "      <th></th>\n",
       "      <th>Unnamed: 0</th>\n",
       "      <th>title</th>\n",
       "      <th>selftext</th>\n",
       "      <th>subreddit</th>\n",
       "      <th>created_utc</th>\n",
       "    </tr>\n",
       "  </thead>\n",
       "  <tbody>\n",
       "    <tr>\n",
       "      <th>0</th>\n",
       "      <td>0</td>\n",
       "      <td>Do the crazy customers realize that they becom...</td>\n",
       "      <td>removed_asdf_fix</td>\n",
       "      <td>0</td>\n",
       "      <td>1636729943</td>\n",
       "    </tr>\n",
       "    <tr>\n",
       "      <th>1</th>\n",
       "      <td>1</td>\n",
       "      <td>Store music volume controls</td>\n",
       "      <td>My most recent job, and hopefully last, in ret...</td>\n",
       "      <td>0</td>\n",
       "      <td>1636729678</td>\n",
       "    </tr>\n",
       "  </tbody>\n",
       "</table>\n",
       "</div>"
      ],
      "text/plain": [
       "   Unnamed: 0                                              title  \\\n",
       "0           0  Do the crazy customers realize that they becom...   \n",
       "1           1                        Store music volume controls   \n",
       "\n",
       "                                            selftext  subreddit  created_utc  \n",
       "0                                   removed_asdf_fix          0   1636729943  \n",
       "1  My most recent job, and hopefully last, in ret...          0   1636729678  "
      ]
     },
     "execution_count": 47,
     "metadata": {},
     "output_type": "execute_result"
    }
   ],
   "source": [
    "df.head(2)"
   ]
  },
  {
   "cell_type": "code",
   "execution_count": 48,
   "id": "b8c4b279",
   "metadata": {},
   "outputs": [],
   "source": [
    "df = df.drop(columns=['Unnamed: 0'])"
   ]
  },
  {
   "cell_type": "markdown",
   "id": "71ef481b",
   "metadata": {},
   "source": [
    "# TalesFromRetail: 0, TalesFromTechSupport: 1"
   ]
  },
  {
   "cell_type": "code",
   "execution_count": 49,
   "id": "011ba043",
   "metadata": {},
   "outputs": [
    {
     "data": {
      "text/html": [
       "<div>\n",
       "<style scoped>\n",
       "    .dataframe tbody tr th:only-of-type {\n",
       "        vertical-align: middle;\n",
       "    }\n",
       "\n",
       "    .dataframe tbody tr th {\n",
       "        vertical-align: top;\n",
       "    }\n",
       "\n",
       "    .dataframe thead th {\n",
       "        text-align: right;\n",
       "    }\n",
       "</style>\n",
       "<table border=\"1\" class=\"dataframe\">\n",
       "  <thead>\n",
       "    <tr style=\"text-align: right;\">\n",
       "      <th></th>\n",
       "      <th>title</th>\n",
       "      <th>selftext</th>\n",
       "      <th>subreddit</th>\n",
       "      <th>created_utc</th>\n",
       "    </tr>\n",
       "  </thead>\n",
       "  <tbody>\n",
       "    <tr>\n",
       "      <th>0</th>\n",
       "      <td>Do the crazy customers realize that they becom...</td>\n",
       "      <td>removed_asdf_fix</td>\n",
       "      <td>0</td>\n",
       "      <td>1636729943</td>\n",
       "    </tr>\n",
       "    <tr>\n",
       "      <th>1</th>\n",
       "      <td>Store music volume controls</td>\n",
       "      <td>My most recent job, and hopefully last, in ret...</td>\n",
       "      <td>0</td>\n",
       "      <td>1636729678</td>\n",
       "    </tr>\n",
       "    <tr>\n",
       "      <th>2</th>\n",
       "      <td>Ways of Rejection</td>\n",
       "      <td>I'll just hop right into it as there's no poin...</td>\n",
       "      <td>0</td>\n",
       "      <td>1636725427</td>\n",
       "    </tr>\n",
       "    <tr>\n",
       "      <th>3</th>\n",
       "      <td>JUST TELL US WHAT IT'S USED FOR!</td>\n",
       "      <td>removed_asdf_fix</td>\n",
       "      <td>0</td>\n",
       "      <td>1636694714</td>\n",
       "    </tr>\n",
       "    <tr>\n",
       "      <th>4</th>\n",
       "      <td>You've got to go collect stray shopping carts ...</td>\n",
       "      <td>removed_asdf_fix</td>\n",
       "      <td>0</td>\n",
       "      <td>1636679308</td>\n",
       "    </tr>\n",
       "  </tbody>\n",
       "</table>\n",
       "</div>"
      ],
      "text/plain": [
       "                                               title  \\\n",
       "0  Do the crazy customers realize that they becom...   \n",
       "1                        Store music volume controls   \n",
       "2                                  Ways of Rejection   \n",
       "3                   JUST TELL US WHAT IT'S USED FOR!   \n",
       "4  You've got to go collect stray shopping carts ...   \n",
       "\n",
       "                                            selftext  subreddit  created_utc  \n",
       "0                                   removed_asdf_fix          0   1636729943  \n",
       "1  My most recent job, and hopefully last, in ret...          0   1636729678  \n",
       "2  I'll just hop right into it as there's no poin...          0   1636725427  \n",
       "3                                   removed_asdf_fix          0   1636694714  \n",
       "4                                   removed_asdf_fix          0   1636679308  "
      ]
     },
     "execution_count": 49,
     "metadata": {},
     "output_type": "execute_result"
    }
   ],
   "source": [
    "df.head()"
   ]
  },
  {
   "cell_type": "code",
   "execution_count": 50,
   "id": "b3197d55",
   "metadata": {},
   "outputs": [
    {
     "data": {
      "text/plain": [
       "1    0.501878\n",
       "0    0.498122\n",
       "Name: subreddit, dtype: float64"
      ]
     },
     "execution_count": 50,
     "metadata": {},
     "output_type": "execute_result"
    }
   ],
   "source": [
    "df['subreddit'].value_counts(normalize=True)"
   ]
  },
  {
   "cell_type": "markdown",
   "id": "75113c4c",
   "metadata": {},
   "source": [
    "### Our baseline accuracy rate will be 50.18%, based of distribution above"
   ]
  },
  {
   "cell_type": "markdown",
   "id": "67fb1497",
   "metadata": {},
   "source": [
    "# Setting our X,y and creating our Train/Test split"
   ]
  },
  {
   "cell_type": "code",
   "execution_count": 77,
   "id": "a20d884d",
   "metadata": {},
   "outputs": [],
   "source": [
    "df['subreddit'] = df['subreddit'].map({0: 'TalesFromRetail', 1: 'TalesFromTechSupport'})"
   ]
  },
  {
   "cell_type": "code",
   "execution_count": 116,
   "id": "d8335c17",
   "metadata": {},
   "outputs": [],
   "source": [
    "df['all_words'] = df['title'] + df['selftext']"
   ]
  },
  {
   "cell_type": "code",
   "execution_count": 117,
   "id": "2a91fc27",
   "metadata": {},
   "outputs": [],
   "source": [
    "features = ['title', 'selftext'] \n",
    "X = df['all_words']\n",
    "y = df['subreddit']"
   ]
  },
  {
   "cell_type": "code",
   "execution_count": 105,
   "id": "d9a026ab",
   "metadata": {},
   "outputs": [
    {
     "data": {
      "text/plain": [
       "TalesFromTechSupport    1470\n",
       "TalesFromRetail         1459\n",
       "Name: subreddit, dtype: int64"
      ]
     },
     "execution_count": 105,
     "metadata": {},
     "output_type": "execute_result"
    }
   ],
   "source": [
    "y.value_counts()"
   ]
  },
  {
   "cell_type": "code",
   "execution_count": 106,
   "id": "c445b0e1",
   "metadata": {},
   "outputs": [
    {
     "data": {
      "text/plain": [
       "(2929,)"
      ]
     },
     "execution_count": 106,
     "metadata": {},
     "output_type": "execute_result"
    }
   ],
   "source": [
    "X.shape"
   ]
  },
  {
   "cell_type": "code",
   "execution_count": 107,
   "id": "5b32310a",
   "metadata": {},
   "outputs": [
    {
     "data": {
      "text/plain": [
       "(2929,)"
      ]
     },
     "execution_count": 107,
     "metadata": {},
     "output_type": "execute_result"
    }
   ],
   "source": [
    "y.shape"
   ]
  },
  {
   "cell_type": "code",
   "execution_count": 118,
   "id": "cba3d583",
   "metadata": {},
   "outputs": [],
   "source": [
    "X_train, X_test, y_train, y_test = train_test_split(X, y, random_state=42)"
   ]
  },
  {
   "cell_type": "code",
   "execution_count": 109,
   "id": "16867c9d",
   "metadata": {},
   "outputs": [
    {
     "data": {
      "text/plain": [
       "(2196,)"
      ]
     },
     "execution_count": 109,
     "metadata": {},
     "output_type": "execute_result"
    }
   ],
   "source": [
    "X_train.shape"
   ]
  },
  {
   "cell_type": "code",
   "execution_count": 110,
   "id": "b1e8cb83",
   "metadata": {},
   "outputs": [
    {
     "data": {
      "text/plain": [
       "(2196,)"
      ]
     },
     "execution_count": 110,
     "metadata": {},
     "output_type": "execute_result"
    }
   ],
   "source": [
    "y_train.shape"
   ]
  },
  {
   "cell_type": "code",
   "execution_count": 111,
   "id": "e63963ba",
   "metadata": {},
   "outputs": [
    {
     "data": {
      "text/plain": [
       "(733,)"
      ]
     },
     "execution_count": 111,
     "metadata": {},
     "output_type": "execute_result"
    }
   ],
   "source": [
    "X_test.shape"
   ]
  },
  {
   "cell_type": "code",
   "execution_count": 112,
   "id": "79191d06",
   "metadata": {},
   "outputs": [
    {
     "data": {
      "text/plain": [
       "(733,)"
      ]
     },
     "execution_count": 112,
     "metadata": {},
     "output_type": "execute_result"
    }
   ],
   "source": [
    "y_test.shape"
   ]
  },
  {
   "cell_type": "code",
   "execution_count": 113,
   "id": "97451e3d",
   "metadata": {},
   "outputs": [
    {
     "data": {
      "text/plain": [
       "TalesFromTechSupport    1105\n",
       "TalesFromRetail         1091\n",
       "Name: subreddit, dtype: int64"
      ]
     },
     "execution_count": 113,
     "metadata": {},
     "output_type": "execute_result"
    }
   ],
   "source": [
    "y_train.value_counts()"
   ]
  },
  {
   "cell_type": "markdown",
   "id": "d8792dcf",
   "metadata": {},
   "source": [
    "# Creating our Pipe"
   ]
  },
  {
   "cell_type": "code",
   "execution_count": 143,
   "id": "97bb9e79",
   "metadata": {},
   "outputs": [],
   "source": [
    "import nltk\n",
    "stopwords = nltk.corpus.stopwords.words('english')\n",
    "stopwords.append('removed_asdf_fix') # adding stop word\n",
    "# Inspiration https://stackoverflow.com/questions/5511708/adding-words-to-nltk-stoplist"
   ]
  },
  {
   "cell_type": "code",
   "execution_count": 160,
   "id": "b0517e84",
   "metadata": {
    "scrolled": true
   },
   "outputs": [
    {
     "data": {
      "text/plain": [
       "['Do',\n",
       " 'the',\n",
       " 'crazy',\n",
       " 'customers',\n",
       " 'realize',\n",
       " 'that',\n",
       " 'they',\n",
       " 'become',\n",
       " 'a',\n",
       " 'joke',\n",
       " 'after',\n",
       " 'they',\n",
       " 'leave',\n",
       " '?']"
      ]
     },
     "execution_count": 160,
     "metadata": {},
     "output_type": "execute_result"
    }
   ],
   "source": [
    "word_tokenize(df['title'][0])"
   ]
  },
  {
   "cell_type": "code",
   "execution_count": 141,
   "id": "b2edef6f",
   "metadata": {},
   "outputs": [],
   "source": [
    "tokenizer = CountVectorizer().build_tokenizer()"
   ]
  },
  {
   "cell_type": "code",
   "execution_count": 121,
   "id": "d9cf7bb3",
   "metadata": {},
   "outputs": [],
   "source": [
    "pipe = Pipeline([\n",
    "    ('cvec', CountVectorizer()),\n",
    "    ('model', LogisticRegression(max_iter=1_000))\n",
    "])"
   ]
  },
  {
   "cell_type": "code",
   "execution_count": 163,
   "id": "9e2a883c",
   "metadata": {},
   "outputs": [
    {
     "name": "stdout",
     "output_type": "stream",
     "text": [
      "0.8601905156347069\n"
     ]
    },
    {
     "data": {
      "text/plain": [
       "{'cvec__binary': True,\n",
       " 'cvec__max_df': 0.3,\n",
       " 'cvec__min_df': 4,\n",
       " 'cvec__ngram_range': (1, 2),\n",
       " 'cvec__stop_words': 'english'}"
      ]
     },
     "execution_count": 163,
     "metadata": {},
     "output_type": "execute_result"
    }
   ],
   "source": [
    "params = {\n",
    "    'cvec__stop_words': [None, 'english'],\n",
    "    'cvec__min_df': [3, 4, 5],\n",
    "    'cvec__max_df':[.25, .3, .35],\n",
    "    'cvec__binary': [True, False],\n",
    "    'cvec__ngram_range': [(1,2)]\n",
    "}\n",
    "gs = GridSearchCV(pipe, param_grid=params)\n",
    "gs.fit(X_train, y_train)\n",
    "print(gs.best_score_)\n",
    "gs.best_params_"
   ]
  },
  {
   "cell_type": "code",
   "execution_count": 192,
   "id": "600a4786",
   "metadata": {},
   "outputs": [
    {
     "data": {
      "image/png": "[encoded data removed]",
      "text/plain": [
       "<Figure size 576x576 with 2 Axes>"
      ]
     },
     "metadata": {
      "needs_background": "light"
     },
     "output_type": "display_data"
    }
   ],
   "source": [
    "# inspiration https://stackoverflow.com/questions/61325314/how-to-change-plot-confusion-matrix-default-figure-size-in-sklearn-metrics-packa\n",
    "fig, ax = plt.subplots(figsize=(8, 8))\n",
    "plot_confusion_matrix(gs, X_test, y_test, display_labels=['Retail', 'Tech'], ax=ax)\n",
    "plt.title('Confusion Matrix CVectorizer', size=15);"
   ]
  },
  {
   "cell_type": "code",
   "execution_count": 166,
   "id": "2ebcc78e",
   "metadata": {},
   "outputs": [],
   "source": [
    "pipe2 = Pipeline([\n",
    "    ('tfidf', TfidfVectorizer()),\n",
    "    ('model', LogisticRegression(max_iter=1_000))\n",
    "])"
   ]
  },
  {
   "cell_type": "code",
   "execution_count": 177,
   "id": "e7edc3e8",
   "metadata": {},
   "outputs": [
    {
     "name": "stdout",
     "output_type": "stream",
     "text": [
      "0.8820501138952164\n"
     ]
    },
    {
     "data": {
      "text/plain": [
       "{'tfidf__binary': True,\n",
       " 'tfidf__max_df': 0.3,\n",
       " 'tfidf__min_df': 3,\n",
       " 'tfidf__ngram_range': (1, 1),\n",
       " 'tfidf__stop_words': 'english'}"
      ]
     },
     "execution_count": 177,
     "metadata": {},
     "output_type": "execute_result"
    }
   ],
   "source": [
    "params2 = {\n",
    "    'tfidf__stop_words': [None, 'english'],\n",
    "    'tfidf__min_df': [2, 3, 4],\n",
    "    'tfidf__max_df':[.25, .3, .35],\n",
    "    'tfidf__binary': [True, False],\n",
    "    'tfidf__ngram_range': [(1,1),(1,2)]\n",
    "}\n",
    "gs1 = GridSearchCV(pipe2, param_grid=params2)\n",
    "gs1.fit(X_train, y_train)\n",
    "print(gs1.best_score_)\n",
    "gs1.best_params_"
   ]
  },
  {
   "cell_type": "code",
   "execution_count": 191,
   "id": "f517836f",
   "metadata": {},
   "outputs": [
    {
     "data": {
      "image/png": "[encoded data removed]",
      "text/plain": [
       "<Figure size 576x576 with 2 Axes>"
      ]
     },
     "metadata": {
      "needs_background": "light"
     },
     "output_type": "display_data"
    }
   ],
   "source": [
    "# inspiration https://stackoverflow.com/questions/61325314/how-to-change-plot-confusion-matrix-default-figure-size-in-sklearn-metrics-packa\n",
    "fig, ax = plt.subplots(figsize=(8, 8))\n",
    "plot_confusion_matrix(gs1, X_test, y_test, display_labels=['Retail', 'Tech'], ax=ax)\n",
    "plt.title('Confusion Matrix TfidVectorizer', size=15);"
   ]
  },
  {
   "cell_type": "code",
   "execution_count": null,
   "id": "95146ab4",
   "metadata": {},
   "outputs": [],
   "source": []
  }
 ],
 "metadata": {
  "kernelspec": {
   "display_name": "Python 3",
   "language": "python",
   "name": "python3"
  },
  "language_info": {
   "codemirror_mode": {
    "name": "ipython",
    "version": 3
   },
   "file_extension": ".py",
   "mimetype": "text/x-python",
   "name": "python",
   "nbconvert_exporter": "python",
   "pygments_lexer": "ipython3",
   "version": "3.8.8"
  }
 },
 "nbformat": 4,
 "nbformat_minor": 5
}
