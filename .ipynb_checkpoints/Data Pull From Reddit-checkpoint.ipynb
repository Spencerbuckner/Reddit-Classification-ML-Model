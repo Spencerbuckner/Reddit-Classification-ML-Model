{
 "cells": [
  {
   "cell_type": "markdown",
   "id": "815e2f0b",
   "metadata": {},
   "source": [
    "# We will be pulling data from Reddit to set up our Binary Classification. The subreddits that will be used are r/TalesFromRetail and r/TalesFromTechSupport"
   ]
  },
  {
   "cell_type": "markdown",
   "id": "1abd14f0",
   "metadata": {},
   "source": [
    "## The reason these two subreddits were chosen\n",
    "- Largely Text Based\n",
    "- Large Communities\n",
    "- Similar Conecpt (talking about their jobs)"
   ]
  },
  {
   "cell_type": "markdown",
   "id": "1fba5e1b",
   "metadata": {},
   "source": [
    "# Our goal will be to create a Binary Classification that will take in new post titles, and classify them into the \"correct\" subreddits."
   ]
  },
  {
   "cell_type": "code",
   "execution_count": null,
   "id": "bff0ed25",
   "metadata": {},
   "outputs": [],
   "source": []
  },
  {
   "cell_type": "markdown",
   "id": "ff0f3255",
   "metadata": {},
   "source": [
    "# First, we must gather >1000 post info from each subreddit"
   ]
  },
  {
   "cell_type": "code",
   "execution_count": 3,
   "id": "24056bf8",
   "metadata": {},
   "outputs": [],
   "source": [
    "import pandas as pd\n",
    "import numpy as np\n",
    "import requests\n",
    "import time"
   ]
  },
  {
   "cell_type": "code",
   "execution_count": 21,
   "id": "95e66589",
   "metadata": {},
   "outputs": [
    {
     "name": "stdout",
     "output_type": "stream",
     "text": [
      "TalesFromRetail 0\n",
      "TalesFromRetail 1\n",
      "TalesFromRetail 2\n",
      "TalesFromRetail 3\n",
      "TalesFromRetail 4\n",
      "TalesFromRetail 5\n",
      "TalesFromRetail 6\n",
      "TalesFromRetail 7\n",
      "TalesFromRetail 8\n",
      "TalesFromRetail 9\n",
      "TalesFromRetail 10\n",
      "TalesFromRetail 11\n",
      "TalesFromRetail 12\n",
      "TalesFromRetail 13\n",
      "TalesFromRetail 14\n",
      "talesfromtechsupport 0\n",
      "talesfromtechsupport 1\n",
      "talesfromtechsupport 2\n",
      "talesfromtechsupport 3\n",
      "talesfromtechsupport 4\n",
      "talesfromtechsupport 5\n",
      "talesfromtechsupport 6\n",
      "talesfromtechsupport 7\n",
      "talesfromtechsupport 8\n",
      "talesfromtechsupport 9\n",
      "talesfromtechsupport 10\n",
      "talesfromtechsupport 11\n",
      "talesfromtechsupport 12\n",
      "talesfromtechsupport 13\n",
      "talesfromtechsupport 14\n"
     ]
    }
   ],
   "source": [
    "subreddits = [\"TalesFromRetail\", \"talesfromtechsupport\"] #subreddits\n",
    "df = []\n",
    "for i in subreddits:\n",
    "    for x in range(15):\n",
    "            params = {\n",
    "                    'subreddit':subreddits,\n",
    "                    'size': 100   \n",
    "                        }\n",
    "            if x != 0: \n",
    "                params['before'] = last_time\n",
    "            \n",
    "            url = 'https://api.pushshift.io/reddit/search/submission'\n",
    "            res = requests.get(url, params=params)\n",
    "            res.json()\n",
    "            posts = pd.DataFrame(res.json()['data'])\n",
    "            posts = posts[['title', 'selftext', 'subreddit', 'created_utc']]\n",
    "            last_time = posts['created_utc'].values[-1] # setting last time for the last post we scraped\n",
    "        \n",
    "            df.append(posts)\n",
    "            print(i, x) # tracking the number of iterations\n",
    "            time.sleep(3) #3 seconds in between loops\n",
    "                  \n",
    "df_finished = pd.concat(df, ignore_index=True)"
   ]
  },
  {
   "cell_type": "code",
   "execution_count": 22,
   "id": "d7696839",
   "metadata": {},
   "outputs": [
    {
     "data": {
      "text/html": [
       "<div>\n",
       "<style scoped>\n",
       "    .dataframe tbody tr th:only-of-type {\n",
       "        vertical-align: middle;\n",
       "    }\n",
       "\n",
       "    .dataframe tbody tr th {\n",
       "        vertical-align: top;\n",
       "    }\n",
       "\n",
       "    .dataframe thead th {\n",
       "        text-align: right;\n",
       "    }\n",
       "</style>\n",
       "<table border=\"1\" class=\"dataframe\">\n",
       "  <thead>\n",
       "    <tr style=\"text-align: right;\">\n",
       "      <th></th>\n",
       "      <th>title</th>\n",
       "      <th>selftext</th>\n",
       "      <th>subreddit</th>\n",
       "      <th>created_utc</th>\n",
       "    </tr>\n",
       "  </thead>\n",
       "  <tbody>\n",
       "    <tr>\n",
       "      <th>0</th>\n",
       "      <td>What am I, faculty management?</td>\n",
       "      <td>So, a very short one for y'all.  A bit of cont...</td>\n",
       "      <td>talesfromtechsupport</td>\n",
       "      <td>1636691172</td>\n",
       "    </tr>\n",
       "    <tr>\n",
       "      <th>1</th>\n",
       "      <td>Another side of tech support</td>\n",
       "      <td>TL/DR at the Bottom:\\n\\nThe company I work for...</td>\n",
       "      <td>talesfromtechsupport</td>\n",
       "      <td>1636682934</td>\n",
       "    </tr>\n",
       "    <tr>\n",
       "      <th>2</th>\n",
       "      <td>You've got to go collect stray shopping carts ...</td>\n",
       "      <td>[removed]</td>\n",
       "      <td>TalesFromRetail</td>\n",
       "      <td>1636679308</td>\n",
       "    </tr>\n",
       "    <tr>\n",
       "      <th>3</th>\n",
       "      <td>JUST TELL US WHAT IT'S FUCKING USED FOR!</td>\n",
       "      <td>[removed]</td>\n",
       "      <td>TalesFromRetail</td>\n",
       "      <td>1636677638</td>\n",
       "    </tr>\n",
       "    <tr>\n",
       "      <th>4</th>\n",
       "      <td>Mini-rant from a conspiracy theorist (probably)</td>\n",
       "      <td>[removed]</td>\n",
       "      <td>TalesFromRetail</td>\n",
       "      <td>1636671339</td>\n",
       "    </tr>\n",
       "    <tr>\n",
       "      <th>...</th>\n",
       "      <td>...</td>\n",
       "      <td>...</td>\n",
       "      <td>...</td>\n",
       "      <td>...</td>\n",
       "    </tr>\n",
       "    <tr>\n",
       "      <th>2985</th>\n",
       "      <td>The reluctant learner</td>\n",
       "      <td>I finally have a story to tell. I've been work...</td>\n",
       "      <td>talesfromtechsupport</td>\n",
       "      <td>1628364879</td>\n",
       "    </tr>\n",
       "    <tr>\n",
       "      <th>2986</th>\n",
       "      <td>still hate that she did this</td>\n",
       "      <td>For reference, I live in the UK.\\n\\nThis short...</td>\n",
       "      <td>TalesFromRetail</td>\n",
       "      <td>1628358864</td>\n",
       "    </tr>\n",
       "    <tr>\n",
       "      <th>2987</th>\n",
       "      <td>Looking for a wine my daughter had with an obs...</td>\n",
       "      <td>That pretty much sums it up. This was a few ye...</td>\n",
       "      <td>TalesFromRetail</td>\n",
       "      <td>1628358446</td>\n",
       "    </tr>\n",
       "    <tr>\n",
       "      <th>2988</th>\n",
       "      <td>retired professor with way too much time</td>\n",
       "      <td>Another story from the early days of my sysadm...</td>\n",
       "      <td>talesfromtechsupport</td>\n",
       "      <td>1628356740</td>\n",
       "    </tr>\n",
       "    <tr>\n",
       "      <th>2989</th>\n",
       "      <td>Cooking up a CEO</td>\n",
       "      <td>Complaints is a CEO's phone is acting weird\\n\\...</td>\n",
       "      <td>talesfromtechsupport</td>\n",
       "      <td>1628349094</td>\n",
       "    </tr>\n",
       "  </tbody>\n",
       "</table>\n",
       "<p>2990 rows × 4 columns</p>\n",
       "</div>"
      ],
      "text/plain": [
       "                                                  title  \\\n",
       "0                        What am I, faculty management?   \n",
       "1                          Another side of tech support   \n",
       "2     You've got to go collect stray shopping carts ...   \n",
       "3              JUST TELL US WHAT IT'S FUCKING USED FOR!   \n",
       "4       Mini-rant from a conspiracy theorist (probably)   \n",
       "...                                                 ...   \n",
       "2985                              The reluctant learner   \n",
       "2986                       still hate that she did this   \n",
       "2987  Looking for a wine my daughter had with an obs...   \n",
       "2988           retired professor with way too much time   \n",
       "2989                                   Cooking up a CEO   \n",
       "\n",
       "                                               selftext             subreddit  \\\n",
       "0     So, a very short one for y'all.  A bit of cont...  talesfromtechsupport   \n",
       "1     TL/DR at the Bottom:\\n\\nThe company I work for...  talesfromtechsupport   \n",
       "2                                             [removed]       TalesFromRetail   \n",
       "3                                             [removed]       TalesFromRetail   \n",
       "4                                             [removed]       TalesFromRetail   \n",
       "...                                                 ...                   ...   \n",
       "2985  I finally have a story to tell. I've been work...  talesfromtechsupport   \n",
       "2986  For reference, I live in the UK.\\n\\nThis short...       TalesFromRetail   \n",
       "2987  That pretty much sums it up. This was a few ye...       TalesFromRetail   \n",
       "2988  Another story from the early days of my sysadm...  talesfromtechsupport   \n",
       "2989  Complaints is a CEO's phone is acting weird\\n\\...  talesfromtechsupport   \n",
       "\n",
       "      created_utc  \n",
       "0      1636691172  \n",
       "1      1636682934  \n",
       "2      1636679308  \n",
       "3      1636677638  \n",
       "4      1636671339  \n",
       "...           ...  \n",
       "2985   1628364879  \n",
       "2986   1628358864  \n",
       "2987   1628358446  \n",
       "2988   1628356740  \n",
       "2989   1628349094  \n",
       "\n",
       "[2990 rows x 4 columns]"
      ]
     },
     "execution_count": 22,
     "metadata": {},
     "output_type": "execute_result"
    }
   ],
   "source": [
    "df_finished"
   ]
  },
  {
   "cell_type": "code",
   "execution_count": 24,
   "id": "5b59f27c",
   "metadata": {},
   "outputs": [
    {
     "data": {
      "text/plain": [
       "TalesFromRetail         0.50903\n",
       "talesfromtechsupport    0.49097\n",
       "Name: subreddit, dtype: float64"
      ]
     },
     "execution_count": 24,
     "metadata": {},
     "output_type": "execute_result"
    }
   ],
   "source": [
    "df_finished['subreddit'].value_counts(normalize=True)"
   ]
  },
  {
   "cell_type": "code",
   "execution_count": 25,
   "id": "dd45574b",
   "metadata": {},
   "outputs": [],
   "source": [
    "df_finished.to_csv('subredditdata.csv', index=False)"
   ]
  },
  {
   "cell_type": "markdown",
   "id": "5168f5f5",
   "metadata": {},
   "source": [
    "# ~1500 rows of data pulled for each subreddit and put into a csv"
   ]
  },
  {
   "cell_type": "code",
   "execution_count": null,
   "id": "4d176d2a",
   "metadata": {},
   "outputs": [],
   "source": []
  }
 ],
 "metadata": {
  "kernelspec": {
   "display_name": "Python 3",
   "language": "python",
   "name": "python3"
  },
  "language_info": {
   "codemirror_mode": {
    "name": "ipython",
    "version": 3
   },
   "file_extension": ".py",
   "mimetype": "text/x-python",
   "name": "python",
   "nbconvert_exporter": "python",
   "pygments_lexer": "ipython3",
   "version": "3.8.8"
  }
 },
 "nbformat": 4,
 "nbformat_minor": 5
}
